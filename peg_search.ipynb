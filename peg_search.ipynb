{
 "cells": [
  {
   "cell_type": "code",
   "execution_count": 1,
   "id": "99a83bec-afbd-4f49-952b-1bb808d0d802",
   "metadata": {},
   "outputs": [],
   "source": [
    "import numpy as np\n",
    "from tqdm import tqdm\n",
    "import json\n",
    "import time\n",
    "import datetime\n",
    "from ldpc import BpOsdDecoder\n",
    "from bposd.css import css_code\n",
    "import scipy\n",
    "from lifted_hgp_4d import *\n",
    "# Combine PEG-generated QC protograph with ldpc.protograph\n",
    "from mm_qc_pega.graphs import QC_tanner_graph\n",
    "import numpy as np\n",
    "import ldpc.protograph as pt"
   ]
  },
  {
   "cell_type": "code",
   "execution_count": 10,
   "id": "4c80a604-8d18-4354-ab74-38b06cd791f1",
   "metadata": {},
   "outputs": [],
   "source": [
    "def qc_proto_to_pt(proto_matrix, N):\n",
    "    \"\"\"\n",
    "    Convert QC_tanner_graph.proto (‑1 or shift) to ldpc.protograph.array,\n",
    "    compensating for the opposite column ordering convention.\n",
    "    \"\"\"\n",
    "    m, n = proto_matrix.shape\n",
    "    obj = np.empty((m, n), dtype=object)\n",
    "\n",
    "    for i in range(m):\n",
    "        for j in range(n):\n",
    "            s = int(proto_matrix[i, j])\n",
    "            obj[i, j] = () if s == -1 else ((-s) % N,)\n",
    "\n",
    "    return pt.array(obj)"
   ]
  },
  {
   "cell_type": "code",
   "execution_count": 11,
   "id": "b880ee71-2dbb-4872-8154-c1964f9689e5",
   "metadata": {},
   "outputs": [],
   "source": [
    "# Load QC protograph from PEG generator\n",
    "G = QC_tanner_graph.read(\"mm_qc_pega/test.qc\")\n",
    "A = qc_proto_to_pt(G.proto, N=G.N)         # convert to pt.array\n",
    "\n",
    "# sanity check: binary matrices must match\n",
    "H_qc   = G.get_H()\n",
    "H_pt   = A.to_binary(lift_parameter=G.N)\n",
    "assert np.array_equal(H_qc, H_pt)"
   ]
  },
  {
   "cell_type": "code",
   "execution_count": 12,
   "id": "1e1ffb60-47eb-4c18-8063-bd28be77d871",
   "metadata": {},
   "outputs": [
    {
     "data": {
      "text/plain": [
       "3"
      ]
     },
     "execution_count": 12,
     "metadata": {},
     "output_type": "execute_result"
    }
   ],
   "source": [
    "G.N"
   ]
  },
  {
   "cell_type": "code",
   "execution_count": 13,
   "id": "67036b95-0f0e-494d-be34-5cf5da112341",
   "metadata": {},
   "outputs": [
    {
     "data": {
      "text/plain": [
       "array([[(2), (), (0), (2)],\n",
       "       [(), (2), (0), (0)],\n",
       "       [(0), (2), (), (0)],\n",
       "       [(2), (1), (0), ()]], dtype=object)"
      ]
     },
     "execution_count": 13,
     "metadata": {},
     "output_type": "execute_result"
    }
   ],
   "source": [
    "A"
   ]
  },
  {
   "cell_type": "code",
   "execution_count": 14,
   "id": "0c6b5028-9f5b-43f9-9c6d-e5dc336f307a",
   "metadata": {},
   "outputs": [
    {
     "data": {
      "text/plain": [
       "ldpc.protograph.array"
      ]
     },
     "execution_count": 14,
     "metadata": {},
     "output_type": "execute_result"
    }
   ],
   "source": [
    "type(A)"
   ]
  },
  {
   "cell_type": "code",
   "execution_count": null,
   "id": "dacda7a0-26ed-4e92-8d9a-10f14b81ab9d",
   "metadata": {},
   "outputs": [
    {
     "name": "stderr",
     "output_type": "stream",
     "text": [
      "[INFO] lifted_hgp_4d: starting construction (L=3)\n",
      "[INFO] begin construct_4d_matrices:\n",
      "[INFO] \tgot blocks\n",
      "[INFO] \tmz done\n",
      "[INFO] \thz done\n",
      "[INFO] \thx done\n",
      "[INFO] \tmx done\n",
      "[INFO]   protograph assembly done in 25.84 s\n",
      "[INFO]   hz binary lifting done in 4.63 s\n",
      "[INFO]   hx binary lifting done in 4.34 s\n",
      "[INFO]   metacheck binary lifting done in 2.16 s\n",
      "[INFO] lifted_hgp_4d: finished in 37.01 s\n"
     ]
    }
   ],
   "source": [
    "qcode = lifted_hgp_4d(\n",
    "            lift_parameter=G.N,\n",
    "            a=A, b=A, c=A, d=A,\n",
    "            verbose=True     \n",
    "        )"
   ]
  },
  {
   "cell_type": "code",
   "execution_count": 14,
   "id": "894edca7-4b12-4d1b-855c-8c042e593335",
   "metadata": {},
   "outputs": [
    {
     "name": "stderr",
     "output_type": "stream",
     "text": [
      "[INFO] lifted_hgp_4d: starting construction (L=3)\n",
      "[INFO] begin construct_4d_matrices:\n",
      "[INFO] \tgot blocks\n",
      "[INFO] \tmz done\n",
      "[INFO] \thz done\n",
      "[INFO] \thx done\n",
      "[INFO] \tmx done\n",
      "[INFO]   protograph assembly done in 44.10 s\n",
      "[INFO]   hz binary lifting done in 5.34 s\n",
      "[INFO]   hx binary lifting done in 4.40 s\n",
      "[INFO]   metacheck binary lifting done in 1.54 s\n",
      "[INFO] lifted_hgp_4d: finished in 55.52 s\n"
     ]
    }
   ],
   "source": [
    "qcode = lifted_hgp_4d(\n",
    "            lift_parameter=G.N,\n",
    "            a=A, b=A, c=A, d=A,\n",
    "            verbose=True     \n",
    "        )"
   ]
  },
  {
   "cell_type": "code",
   "execution_count": 20,
   "id": "5ab5edd7-35ab-4dbd-ae60-996e5c1f9856",
   "metadata": {},
   "outputs": [
    {
     "name": "stderr",
     "output_type": "stream",
     "text": [
      "[INFO] lifted_hgp_4d: starting construction (L=3)\n",
      "[INFO] begin construct_4d_matrices:\n",
      "[INFO] \tmz done\n",
      "[INFO] \\got blocks for h matrices\n",
      "[INFO] \thz done\n",
      "[INFO] \thx done\n",
      "[INFO] \tmx done\n",
      "[INFO]   protograph assembly done in 50.06 s\n",
      "[INFO]   hz binary lifting done in 5.75 s\n",
      "[INFO]   hx binary lifting done in 4.43 s\n",
      "[INFO]   metacheck binary lifting done in 1.55 s\n",
      "[INFO] lifted_hgp_4d: finished in 61.93 s\n"
     ]
    }
   ],
   "source": [
    "qcode = lifted_hgp_4d(\n",
    "            lift_parameter=G.N,\n",
    "            a=A, b=A, c=A, d=A,\n",
    "            verbose=True     \n",
    "        )"
   ]
  },
  {
   "cell_type": "code",
   "execution_count": 14,
   "id": "e04ad943-011b-42f9-a9e9-898c461f4ef5",
   "metadata": {},
   "outputs": [
    {
     "name": "stderr",
     "output_type": "stream",
     "text": [
      "[INFO] lifted_hgp_4d: starting construction (L=3)\n",
      "[INFO] begin construct_4d_matrices:\n",
      "[INFO] \tmz done\n",
      "[INFO] \thz done\n",
      "[INFO] \thx done\n",
      "[INFO] \tmx done\n",
      "[INFO]   protograph assembly done in 55.48 s\n",
      "[INFO]   hz binary lifting done in 4.64 s\n",
      "[INFO]   hx binary lifting done in 4.35 s\n",
      "[INFO]   metacheck binary lifting done in 2.07 s\n",
      "[INFO] lifted_hgp_4d: finished in 66.62 s\n"
     ]
    }
   ],
   "source": [
    "qcode = lifted_hgp_4d(\n",
    "            lift_parameter=G.N,\n",
    "            a=A, b=A, c=A, d=A,\n",
    "            verbose=True     \n",
    "        )"
   ]
  },
  {
   "cell_type": "code",
   "execution_count": 23,
   "id": "f23e982b-70c8-4bcf-8996-b4d2a6e73bd3",
   "metadata": {},
   "outputs": [
    {
     "data": {
      "text/plain": [
       "<3072x4608 sparse matrix of type '<class 'numpy.uint8'>'\n",
       "\twith 27648 stored elements in Compressed Sparse Row format>"
      ]
     },
     "execution_count": 23,
     "metadata": {},
     "output_type": "execute_result"
    }
   ],
   "source": [
    "qcode.hx"
   ]
  },
  {
   "cell_type": "code",
   "execution_count": 14,
   "id": "f3357dca-33dd-467f-9214-1f432ef6cfc1",
   "metadata": {},
   "outputs": [
    {
     "name": "stderr",
     "output_type": "stream",
     "text": [
      "\n",
      "KeyboardInterrupt\n",
      "\n"
     ]
    }
   ],
   "source": [
    "qcode=lifted_hgp_4d(lift_parameter=G.N,a=A,b=A,c=A,d=A)"
   ]
  },
  {
   "cell_type": "code",
   "execution_count": null,
   "id": "49700776-9bc7-435a-b2dc-05c4e1edc43d",
   "metadata": {},
   "outputs": [],
   "source": [
    "# css_ss_decode_sim(hx=qcode.hx,hz=qcode.hz,\n",
    "#                   mx = qcode.mx, mz = qcode.mz, \n",
    "#                   **sim_input)"
   ]
  }
 ],
 "metadata": {
  "kernelspec": {
   "display_name": "Python [conda env:base] *",
   "language": "python",
   "name": "conda-base-py"
  },
  "language_info": {
   "codemirror_mode": {
    "name": "ipython",
    "version": 3
   },
   "file_extension": ".py",
   "mimetype": "text/x-python",
   "name": "python",
   "nbconvert_exporter": "python",
   "pygments_lexer": "ipython3",
   "version": "3.11.11"
  }
 },
 "nbformat": 4,
 "nbformat_minor": 5
}
