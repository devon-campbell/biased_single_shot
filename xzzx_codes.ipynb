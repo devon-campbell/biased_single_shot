{
 "cells": [
  {
   "cell_type": "code",
   "execution_count": 30,
   "id": "e16a1ee9-3d4d-44ef-be0b-4fd40d03ca49",
   "metadata": {},
   "outputs": [],
   "source": [
    "import numpy as np\n",
    "from tqdm import tqdm\n",
    "import json\n",
    "import time\n",
    "import datetime\n",
    "from ldpc import BpOsdDecoder\n",
    "from bposd.css import css_code\n",
    "import scipy\n",
    "from lifted_hgp_4d import *\n",
    "from mm_qc_pega.graphs import QC_tanner_graph\n",
    "import numpy as np\n",
    "import ldpc.protograph as pt\n",
    "from distance import *\n",
    "from css_ss_decode_sim import *\n",
    "import scipy.sparse as sp\n",
    "\n",
    "def write_alist_mod2sparse(H, path):\n",
    "    print(path)\n",
    "    H = sp.csr_matrix(H)\n",
    "    Hc = H.tocsc()\n",
    "\n",
    "    M, N      = H.shape\n",
    "    col_w     = Hc.getnnz(axis=0)\n",
    "    row_w     = H .getnnz(axis=1)\n",
    "    max_col_w = int(col_w.max())\n",
    "    max_row_w = int(row_w.max())\n",
    "\n",
    "    nlist = [list(Hc.indices[Hc.indptr[j]:Hc.indptr[j+1]] + 1) for j in range(N)]\n",
    "    mlist = [list(H.indices[H.indptr[i]:H.indptr[i+1]] + 1) for i in range(M)]\n",
    "\n",
    "    with open(path, \"w\") as f:\n",
    "        f.write(f\"{N} {M}\\n\")\n",
    "        f.write(f\"{max_col_w} {max_row_w}\\n\")\n",
    "        f.write(\" \".join(map(str, col_w)) + \"\\n\")\n",
    "        f.write(\" \".join(map(str, row_w)) + \"\\n\")\n",
    "\n",
    "        for col in nlist:\n",
    "            f.write(\" \".join(map(str, col)) + \"\\n\")  # No padding\n",
    "\n",
    "        for row in mlist:\n",
    "            f.write(\" \".join(map(str, row)) + \"\\n\")  # No padding\n",
    "\n",
    "def has_abandon_risk_ratio(H, min_ratio=0.75, max_ratio=1):\n",
    "    \"\"\"\n",
    "    Check if H matrix is proportionally close between variables (N) and checks (M).\n",
    "    Warn if not.\n",
    "    \n",
    "    Parameters:\n",
    "        H : scipy.sparse matrix (or ndarray)\n",
    "        min_ratio : float\n",
    "        max_ratio : float\n",
    "            Acceptable bounds for (N / M)\n",
    "    \"\"\"\n",
    "    M, N = H.shape\n",
    "    ratio = M / N\n",
    "\n",
    "    print(f\"Matrix size: M={M} rows x N={N} columns\")\n",
    "    print(f\"N / M ratio: {ratio:.3f}\")\n",
    "\n",
    "    return (min_ratio <= ratio <= max_ratio)"
   ]
  },
  {
   "cell_type": "code",
   "execution_count": 3,
   "id": "64ca093f-9466-4c62-9ebc-8aff2c19d5a8",
   "metadata": {},
   "outputs": [
    {
     "name": "stdout",
     "output_type": "stream",
     "text": [
      "hx bin shape (20, 30)\n",
      "hz bin shape (20, 30)\n",
      "(hz @ hx.T) + (hx @ hz.T) == 0?: True\n",
      "(mx @ hx @ hz.T @ mz.T) == 0?: True\n"
     ]
    }
   ],
   "source": [
    "n1 = 2\n",
    "n2 = 7\n",
    "L = n1*n2\n",
    "a = pt.array([[(0,1)]])\n",
    "d = pt.array([[(0,n2)]])  \n",
    "qcode = bias_tailored_lhp_4d(5, a=a, b=a, c=a, d=d)\n",
    "\n",
    "qcode.test()\n",
    "write_alist_mod2sparse(qcode.hx, f\"{path}4D_biased_aaad_{n1}_{n2}_hx.alist\")\n",
    "write_alist_mod2sparse(qcode.mx,  f\"{path}4D_biased_aaad_{n1}_{n2}_mx.alist\")\n",
    "write_alist_mod2sparse(qcode.lx,  f\"{path}4D_biased_aaad_{n1}_{n2}_lx.alist\")"
   ]
  },
  {
   "cell_type": "code",
   "execution_count": 4,
   "id": "b4136bdc-f921-4df8-94ce-11c4a6f00966",
   "metadata": {},
   "outputs": [
    {
     "name": "stdout",
     "output_type": "stream",
     "text": [
      "<Unamed stabiliser code>, [[30,14,nan]]\n",
      " -Block dimensions: Pass\n",
      "<class 'scipy.sparse._csr.csr_matrix'>\n",
      "<class 'scipy.sparse._csr.csr_matrix'>\n",
      " -PCMs commute hz@hx.T==0: Pass\n",
      "\t-lx \\in ker{hz} AND lz \\in ker{hx}: Pass\n",
      "<class 'scipy.sparse._csr.csr_matrix'>\n",
      "[[0 0 0 0 0 0 0 0 0 0 0 0 0 0 0 0 0 0 0 0 0 0 0 0 0 0 0 0 0 0]\n",
      " [0 0 0 0 0 0 0 0 0 0 0 0 0 0 0 0 0 0 0 0 0 0 0 0 0 0 0 0 0 0]\n",
      " [0 0 0 0 0 0 0 0 0 0 0 0 0 0 0 0 0 0 0 0 0 0 0 0 0 0 0 0 0 0]\n",
      " [0 0 0 0 0 0 0 0 0 0 0 0 0 0 0 0 0 0 0 0 0 0 0 0 0 0 0 0 0 0]\n",
      " [0 0 0 0 0 0 0 0 0 0 0 0 0 0 0 0 0 0 0 0 0 0 0 0 0 0 0 0 0 0]\n",
      " [0 0 0 0 0 0 0 0 0 0 0 0 0 0 0 0 0 0 0 0 0 0 0 0 0 0 0 0 0 0]\n",
      " [0 0 0 0 0 0 0 0 0 0 0 0 0 0 0 0 0 0 0 0 0 0 0 0 0 0 0 0 0 0]\n",
      " [0 0 0 0 0 0 0 0 0 0 0 0 0 0 0 0 0 0 0 0 0 0 0 0 0 0 0 0 0 0]\n",
      " [0 0 0 0 0 0 0 0 0 0 0 0 0 0 0 0 0 0 0 0 0 0 0 0 0 0 0 0 0 0]\n",
      " [0 0 0 0 0 0 0 0 0 0 0 0 0 0 0 0 0 0 0 0 0 0 0 0 0 0 0 0 0 0]\n",
      " [0 0 0 0 0 0 0 0 0 0 0 0 0 0 0 0 0 0 0 0 0 0 0 0 0 0 0 0 0 0]\n",
      " [0 0 0 0 0 0 0 0 0 0 0 0 0 0 0 0 0 0 0 0 0 0 0 0 0 0 0 0 0 0]\n",
      " [0 0 0 0 0 0 0 0 0 0 0 0 0 0 0 0 0 0 0 0 0 0 0 0 0 0 0 0 0 0]\n",
      " [0 0 0 0 0 0 0 0 0 0 0 0 0 0 0 0 0 0 0 0 0 0 0 0 0 0 0 0 0 0]\n",
      " [1 0 0 0 0 0 0 0 0 0 0 0 0 0 0 0 0 0 0 0 0 0 0 0 0 0 0 0 0 0]\n",
      " [0 1 0 0 0 0 0 0 0 0 0 0 0 0 0 0 0 0 0 0 0 0 0 0 0 0 0 0 0 0]\n",
      " [0 0 1 0 0 0 0 0 0 0 0 0 0 0 0 0 0 0 0 0 0 0 0 0 0 0 0 0 0 0]\n",
      " [0 0 0 1 0 0 0 0 0 0 0 0 0 0 0 0 0 0 0 0 0 0 0 0 0 0 0 0 0 0]\n",
      " [0 0 0 0 1 0 0 0 0 0 0 0 0 0 0 0 0 0 0 0 0 0 0 0 0 0 0 0 0 0]\n",
      " [0 0 0 0 0 1 0 0 0 0 0 0 0 0 0 0 0 0 0 0 0 0 0 0 0 0 0 0 0 0]\n",
      " [0 0 0 0 0 0 1 0 0 0 0 0 0 0 0 0 0 0 0 0 0 0 0 0 0 0 0 0 0 0]\n",
      " [0 0 0 0 0 0 0 1 0 0 0 0 0 0 0 0 0 0 0 0 0 0 0 0 0 0 0 0 0 0]\n",
      " [0 0 0 0 0 0 0 0 1 0 0 0 0 0 0 0 0 0 0 0 0 0 0 0 0 0 0 0 0 0]\n",
      " [0 0 0 0 0 0 0 0 0 1 0 0 0 0 0 0 0 0 0 0 0 0 0 0 0 0 0 0 0 0]\n",
      " [0 0 0 0 0 0 0 0 0 0 1 0 0 0 0 0 0 0 0 0 0 0 0 0 0 0 0 0 0 0]\n",
      " [0 0 0 0 0 0 0 0 0 0 0 0 0 0 0 1 0 0 0 0 0 0 0 0 0 0 0 0 0 0]\n",
      " [0 0 0 0 0 0 0 0 0 0 0 0 0 0 0 0 0 0 0 0 1 0 0 0 0 0 0 0 0 0]\n",
      " [0 0 0 0 0 0 0 0 0 0 0 0 0 0 0 0 0 0 0 0 0 0 0 0 0 1 0 0 0 0]]\n",
      " -lx and lz anticommute: Pass\n",
      "<Unamed stabiliser code> is a valid stabiliser code w/ params [[30,14,nan]]\n"
     ]
    },
    {
     "data": {
      "text/plain": [
       "True"
      ]
     },
     "execution_count": 4,
     "metadata": {},
     "output_type": "execute_result"
    }
   ],
   "source": [
    "qcode.test()\n",
    "write_alist_mod2sparse(qcode.hx, f\"{path}4D_biased_aaad_{n1}_{n2}_hx.alist\")\n",
    "write_alist_mod2sparse(qcode.mx,  f\"{path}4D_biased_aaad_{n1}_{n2}_mx.alist\")\n",
    "write_alist_mod2sparse(qcode.lx,  f\"{path}4D_biased_aaad_{n1}_{n2}_lx.alist\")"
   ]
  },
  {
   "cell_type": "code",
   "execution_count": 43,
   "id": "f625487f-f1ba-44d5-ae34-e8b0485e4fcb",
   "metadata": {},
   "outputs": [],
   "source": [
    "import numpy as np\n",
    "\n",
    "def save_alist(name, mat, j=None, k=None):\n",
    "\n",
    "    H=np.copy(mat)\n",
    "    H=H.T\n",
    "\n",
    "    '''\n",
    "    Function converts parity check matrix into the format required for the RN decoder\n",
    "    '''\n",
    "\n",
    "    if j is None:\n",
    "        j=int(max(H.sum(axis=0)))\n",
    "\n",
    "\n",
    "    if k is None:\n",
    "        k=int(max(H.sum(axis=1)))\n",
    "\n",
    "\n",
    "    m, n = H.shape # rows, cols\n",
    "    f = open(name, 'w')\n",
    "    print(n, m, file=f)\n",
    "    print(j, k, file=f)\n",
    "\n",
    "    for col in range(n):\n",
    "        print( int(H[:, col].sum()), end=\" \", file=f)\n",
    "    print(file=f)\n",
    "    for row in range(m):\n",
    "        print( int(H[row, :].sum()), end=\" \", file=f)\n",
    "    print(file=f)\n",
    "\n",
    "    for col in range(n):\n",
    "        for row in range(m):\n",
    "            if H[row, col]:\n",
    "                print( row+1, end=\" \", file=f)\n",
    "        print(file=f)\n",
    "\n",
    "    for row in range(m):\n",
    "        for col in range(n):\n",
    "            if H[row, col]:\n",
    "                print(col+1, end=\" \", file=f)\n",
    "        print(file=f)\n",
    "    f.close()"
   ]
  },
  {
   "cell_type": "code",
   "execution_count": 47,
   "id": "2fe098fa-ea42-453a-b7ce-724769820263",
   "metadata": {},
   "outputs": [
    {
     "data": {
      "text/plain": [
       "numpy.ndarray"
      ]
     },
     "execution_count": 47,
     "metadata": {},
     "output_type": "execute_result"
    }
   ],
   "source": [
    "type(qcode.hx.toarray())"
   ]
  },
  {
   "cell_type": "code",
   "execution_count": 54,
   "id": "b641ddc3-20b7-4038-ae57-ac4408ad80cb",
   "metadata": {},
   "outputs": [],
   "source": [
    "path = 'single_shot_3D_HGP/codes/4d/NEW_4D_biased_aaad_2_7'\n",
    "save_alist(f\"{path}_hx.alist\", qcode.hx.toarray())\n",
    "save_alist(f\"{path}_mx.alist\", qcode.mx.toarray())\n",
    "save_alist(f\"{path}_lx.alist\", qcode.lx.toarray())"
   ]
  },
  {
   "cell_type": "code",
   "execution_count": 60,
   "id": "f526de7f-efb1-4f09-87b0-e34c85c6aa67",
   "metadata": {},
   "outputs": [
    {
     "name": "stdout",
     "output_type": "stream",
     "text": [
      "Started computation at 2025-04-28 16:11:51.752233\n",
      "Generator matrix has 14 rows and 56 columns.\n",
      "Finding Hamming distance...\n",
      "Minimum non-zero Hamming distance found: 8\n",
      "Contributing rows from G: [0, 1, 2, 3, 5, 6, 7, 8, 9, 10, 11, 12, 13]\n",
      "XOR Result (codeword): [0, 0, 0, 0, 1, 0, 0, 0, 0, 0, 0, 1, 0, 0, 0, 0, 0, 0, 1, 1, 0, 0, 0, 0, 0, 0, 0, 0, 0, 0, 0, 0, 1, 1, 0, 0, 0, 0, 0, 0, 0, 0, 0, 0, 0, 0, 1, 1, 0, 0, 0, 0, 0, 0, 0, 0]\n",
      "Ended computation at 2025-04-28 16:11:51.788093\n",
      "Total computation time: 0:00:00.035860\n"
     ]
    },
    {
     "data": {
      "text/plain": [
       "8"
      ]
     },
     "execution_count": 60,
     "metadata": {},
     "output_type": "execute_result"
    }
   ],
   "source": [
    "compute_min_hamming_distance(qcode.mx.toarray())"
   ]
  },
  {
   "cell_type": "code",
   "execution_count": null,
   "id": "0139a1a3-c66e-45b8-b7a3-c47d7216ec96",
   "metadata": {},
   "outputs": [],
   "source": [
    "# import numpy as np\n",
    "# from alist import save_alist\n",
    "\n",
    "# hamming_matrix=np.array([[1,0,0,1,1,0,1],\n",
    "#                          [0,1,0,1,0,1,1],\n",
    "#                          [0,0,1,1,1,1,0]])\n",
    "\n",
    "# save_alist(\"hamming_d_3.alist\",hamming_matrix)"
   ]
  },
  {
   "cell_type": "code",
   "execution_count": 34,
   "id": "b11bb0c3-9784-4567-81eb-3509cd5d01b9",
   "metadata": {},
   "outputs": [
    {
     "name": "stdout",
     "output_type": "stream",
     "text": [
      "hx bin shape (56, 84)\n",
      "hz bin shape (56, 84)\n",
      "(hz @ hx.T) + (hx @ hz.T) == 0?: True\n",
      "(mx @ hx @ hz.T @ mz.T) == 0?: True\n",
      "single_shot_3D_HGP/codes/4d/4D_biased_aaad_2_7_hx.alist\n",
      "single_shot_3D_HGP/codes/4d/4D_biased_aaad_2_7_mx.alist\n",
      "single_shot_3D_HGP/codes/4d/4D_biased_aaad_2_7_lx.alist\n"
     ]
    }
   ],
   "source": [
    "path = 'single_shot_3D_HGP/codes/4d/'\n",
    "\n",
    "n1 = 2\n",
    "n2 = 7\n",
    "L = n1*n2\n",
    "a = pt.array([[(0,1)]])\n",
    "d = pt.array([[(0,n2)]])     # twist in δ_D\n",
    "qcode = bias_tailored_lhp_4d(L, a=a, b=a, c=a, d=d)\n",
    "\n",
    "# if not has_abandon_risk_ratio(qcode.hx):\n",
    "write_alist_mod2sparse(qcode.hx, f\"{path}4D_biased_aaad_{n1}_{n2}_hx.alist\")\n",
    "write_alist_mod2sparse(qcode.mx,  f\"{path}4D_biased_aaad_{n1}_{n2}_mx.alist\")\n",
    "write_alist_mod2sparse(qcode.lx,  f\"{path}4D_biased_aaad_{n1}_{n2}_lx.alist\")"
   ]
  },
  {
   "cell_type": "code",
   "execution_count": 25,
   "id": "4b6a5c36-5ef0-4155-bba6-715364d8058a",
   "metadata": {},
   "outputs": [
    {
     "data": {
      "text/plain": [
       "'single_shot_3D_HGP/codes/4d/_4D_biased_aaad_2_7_hx.alist'"
      ]
     },
     "execution_count": 25,
     "metadata": {},
     "output_type": "execute_result"
    }
   ],
   "source": [
    "f\"{path}_4D_biased_aaad_{n1}_{n2}_hx.alist\""
   ]
  },
  {
   "cell_type": "code",
   "execution_count": 22,
   "id": "86ed0787-29bb-4899-bed3-586bfff7ce45",
   "metadata": {},
   "outputs": [
    {
     "data": {
      "text/plain": [
       "84"
      ]
     },
     "execution_count": 22,
     "metadata": {},
     "output_type": "execute_result"
    }
   ],
   "source": [
    "qcode.N"
   ]
  },
  {
   "cell_type": "code",
   "execution_count": 181,
   "id": "af515257-0d34-42e6-826d-6925d9fa4dd3",
   "metadata": {},
   "outputs": [],
   "source": [
    "a = pt.array([[(0,1)]])\n"
   ]
  },
  {
   "cell_type": "code",
   "execution_count": 199,
   "id": "67abc57a-96f3-40e4-bcec-e34aa232d63d",
   "metadata": {},
   "outputs": [],
   "source": [
    "A = pt.array([\n",
    "    [(0,1)],\n",
    "    [(1,1)],\n",
    "    [(2,1)]\n",
    "])\n"
   ]
  },
  {
   "cell_type": "code",
   "execution_count": 201,
   "id": "363b41c9-88a2-4ee3-81df-10dbb336f643",
   "metadata": {},
   "outputs": [
    {
     "name": "stdout",
     "output_type": "stream",
     "text": [
      "[[λ(0,1)]\n",
      " [λ()]\n",
      " [λ(1,2)]]\n"
     ]
    }
   ],
   "source": [
    "print(A)"
   ]
  },
  {
   "cell_type": "code",
   "execution_count": 241,
   "id": "160429e4-802c-4e6d-888d-9828d831cc7a",
   "metadata": {},
   "outputs": [],
   "source": [
    "n1, n2 = 2, 7\n",
    "L = n1 * n2\n",
    "\n",
    "# one row per added stabiliser --------------------------\n",
    "row1 = [[(0, 1)]]          # original face\n",
    "row2 = [[(1, 0)]]          # second independent face\n",
    "row3 = [[(1, 1)]]          # third face  (diagonal)\n",
    "\n",
    "A = pt.array([*row1, *row2, *row3])   # shape 3 × 1\n",
    "B = A.copy                        # keep identical shapes\n",
    "C = A.copy\n",
    "# D must **also** have 3 rows, even if twist edge repeats\n",
    "D = pt.array([[(0, n2)], [(0, n2)], [(0, n2)]])  # 3 × 1"
   ]
  },
  {
   "cell_type": "code",
   "execution_count": 243,
   "id": "973f22ab-8796-4f41-9fdb-98987e531e57",
   "metadata": {},
   "outputs": [
    {
     "data": {
      "text/plain": [
       "array([[(0,1)],\n",
       "       [(0,1)],\n",
       "       [()]], dtype=object)"
      ]
     },
     "execution_count": 243,
     "metadata": {},
     "output_type": "execute_result"
    }
   ],
   "source": [
    "A"
   ]
  },
  {
   "cell_type": "code",
   "execution_count": 7,
   "id": "42decab1-4fdb-485b-b87c-fc279c2723c1",
   "metadata": {},
   "outputs": [],
   "source": [
    "# choose R (rows) >= C (cols) so M ≥ N\n",
    "R, C = 3, 1\n",
    "twist = (0, n2)               # keeps the bias-tailored twist\n",
    "\n",
    "row_X1 = [(0, 1), twist]      # original face  +  twist edge\n",
    "row_X2 = [(1, 0), twist]      # orthogonal face + twist\n",
    "row_X3 = [(1, 1), twist]      # diagonal face  + twist\n",
    "\n",
    "A = pt.array([row_X1, row_X2, row_X3])   # 3 × 1\n",
    "D = pt.array([[twist]] * R)              # 3 × 1\n"
   ]
  },
  {
   "cell_type": "code",
   "execution_count": 11,
   "id": "a4699cd5-e4cd-4d9a-aff6-4fe6c031f610",
   "metadata": {},
   "outputs": [],
   "source": [
    "# choose R (rows) >= C (cols) so M ≥ N\n",
    "R, C = 3, 1\n",
    "twist = (0, n2)               # keeps the bias-tailored twist\n",
    "\n",
    "row_X1 = [(0, 1), twist]      # original face  +  twist edge\n",
    "row_X2 = [(1, 0), twist]      # orthogonal face + twist\n",
    "row_X3 = [(1, 1), twist]      # diagonal face  + twist\n",
    "\n",
    "A = pt.array([row_X1, row_X2, row_X3])   # 3 × 1\n",
    "D = pt.array([[twist]] * R)              # 3 × 1\n"
   ]
  },
  {
   "cell_type": "code",
   "execution_count": 15,
   "id": "4287b6b5-9760-4bee-85a0-595fe495c421",
   "metadata": {},
   "outputs": [
    {
     "data": {
      "text/plain": [
       "(3, 2)"
      ]
     },
     "execution_count": 15,
     "metadata": {},
     "output_type": "execute_result"
    }
   ],
   "source": [
    "A.shape"
   ]
  },
  {
   "cell_type": "code",
   "execution_count": 17,
   "id": "76770685-3c00-4124-a94e-e9ca784d6367",
   "metadata": {},
   "outputs": [
    {
     "data": {
      "text/plain": [
       "(3, 1)"
      ]
     },
     "execution_count": 17,
     "metadata": {},
     "output_type": "execute_result"
    }
   ],
   "source": [
    "D.shape"
   ]
  },
  {
   "cell_type": "code",
   "execution_count": 13,
   "id": "e7151403-e702-453a-9a7c-3e5460386a24",
   "metadata": {},
   "outputs": [
    {
     "ename": "ValueError",
     "evalue": "all the input array dimensions except for the concatenation axis must match exactly, but along dimension 1, the array at index 0 has size 2 and the array at index 1 has size 1",
     "output_type": "error",
     "traceback": [
      "\u001b[0;31m---------------------------------------------------------------------------\u001b[0m",
      "\u001b[0;31mValueError\u001b[0m                                Traceback (most recent call last)",
      "Cell \u001b[0;32mIn[13], line 1\u001b[0m\n\u001b[0;32m----> 1\u001b[0m hx_p \u001b[38;5;241m=\u001b[39m pt\u001b[38;5;241m.\u001b[39mhstack(construct_HX(A,A,A,D))   \u001b[38;5;66;03m# proto only\u001b[39;00m\n\u001b[1;32m      2\u001b[0m hz_p \u001b[38;5;241m=\u001b[39m pt\u001b[38;5;241m.\u001b[39mhstack(construct_HZ(A,A,A,D))\n\u001b[1;32m      3\u001b[0m \u001b[38;5;28;01massert\u001b[39;00m hx_p\u001b[38;5;241m.\u001b[39mshape[\u001b[38;5;241m1\u001b[39m] \u001b[38;5;241m==\u001b[39m hz_p\u001b[38;5;241m.\u001b[39mshape[\u001b[38;5;241m1\u001b[39m], \u001b[38;5;124m\"\u001b[39m\u001b[38;5;124mcolumn mismatch\u001b[39m\u001b[38;5;124m\"\u001b[39m\n",
      "File \u001b[0;32m~/Library/CloudStorage/GoogleDrive-dec2180@columbia.edu/My Drive/2024-25/Thesis/biased_single_shot/lifted_hgp_4d.py:103\u001b[0m, in \u001b[0;36mconstruct_HX\u001b[0;34m(A, B, C, D)\u001b[0m\n\u001b[1;32m     99\u001b[0m \u001b[38;5;66;03m# Consistent shape unpacking\u001b[39;00m\n\u001b[1;32m    100\u001b[0m r, a, b, c, d \u001b[38;5;241m=\u001b[39m B\u001b[38;5;241m.\u001b[39mshape[\u001b[38;5;241m0\u001b[39m], A\u001b[38;5;241m.\u001b[39mshape[\u001b[38;5;241m1\u001b[39m], B\u001b[38;5;241m.\u001b[39mshape[\u001b[38;5;241m1\u001b[39m], C\u001b[38;5;241m.\u001b[39mshape[\u001b[38;5;241m1\u001b[39m], D\u001b[38;5;241m.\u001b[39mshape[\u001b[38;5;241m1\u001b[39m]\n\u001b[1;32m    102\u001b[0m cols \u001b[38;5;241m=\u001b[39m [\n\u001b[0;32m--> 103\u001b[0m     pt\u001b[38;5;241m.\u001b[39mvstack([C, D, Z_cached(r, c), Z_cached(r, d)]),\n\u001b[1;32m    104\u001b[0m     pt\u001b[38;5;241m.\u001b[39mvstack([B, Z_cached(r, b), D, Z_cached(r, c)]),\n\u001b[1;32m    105\u001b[0m     pt\u001b[38;5;241m.\u001b[39mvstack([Z_cached(r, a), B, C, Z_cached(r, b)]),\n\u001b[1;32m    106\u001b[0m     pt\u001b[38;5;241m.\u001b[39mvstack([A, Z_cached(r, a), Z_cached(r, a), D]),\n\u001b[1;32m    107\u001b[0m     pt\u001b[38;5;241m.\u001b[39mvstack([Z_cached(r, a), A, Z_cached(r, a), C]),\n\u001b[1;32m    108\u001b[0m     pt\u001b[38;5;241m.\u001b[39mvstack([Z_cached(r, a), Z_cached(r, a), A, B])\n\u001b[1;32m    109\u001b[0m ]\n\u001b[1;32m    110\u001b[0m log\u001b[38;5;241m.\u001b[39minfo(\u001b[38;5;124m'\u001b[39m\u001b[38;5;124mgot hz rows\u001b[39m\u001b[38;5;124m'\u001b[39m)\n\u001b[1;32m    111\u001b[0m hx1_proto \u001b[38;5;241m=\u001b[39m pt\u001b[38;5;241m.\u001b[39mhstack(cols[:\u001b[38;5;241m3\u001b[39m])\n",
      "File \u001b[0;32m~/anaconda3/lib/python3.11/site-packages/ldpc/protograph.py:323\u001b[0m, in \u001b[0;36mvstack\u001b[0;34m(proto_list)\u001b[0m\n\u001b[1;32m    319\u001b[0m \u001b[38;5;28;01mdef\u001b[39;00m \u001b[38;5;21mvstack\u001b[39m(proto_list):\n\u001b[1;32m    320\u001b[0m \u001b[38;5;250m    \u001b[39m\u001b[38;5;124;03m\"\"\"\u001b[39;00m\n\u001b[1;32m    321\u001b[0m \u001b[38;5;124;03m    vstack function for protographs\u001b[39;00m\n\u001b[1;32m    322\u001b[0m \u001b[38;5;124;03m    \"\"\"\u001b[39;00m\n\u001b[0;32m--> 323\u001b[0m     \u001b[38;5;28;01mreturn\u001b[39;00m np\u001b[38;5;241m.\u001b[39mvstack(proto_list)\u001b[38;5;241m.\u001b[39mview(array)\n",
      "File \u001b[0;32m~/anaconda3/lib/python3.11/site-packages/numpy/core/shape_base.py:289\u001b[0m, in \u001b[0;36mvstack\u001b[0;34m(tup, dtype, casting)\u001b[0m\n\u001b[1;32m    287\u001b[0m \u001b[38;5;28;01mif\u001b[39;00m \u001b[38;5;129;01mnot\u001b[39;00m \u001b[38;5;28misinstance\u001b[39m(arrs, \u001b[38;5;28mlist\u001b[39m):\n\u001b[1;32m    288\u001b[0m     arrs \u001b[38;5;241m=\u001b[39m [arrs]\n\u001b[0;32m--> 289\u001b[0m \u001b[38;5;28;01mreturn\u001b[39;00m _nx\u001b[38;5;241m.\u001b[39mconcatenate(arrs, \u001b[38;5;241m0\u001b[39m, dtype\u001b[38;5;241m=\u001b[39mdtype, casting\u001b[38;5;241m=\u001b[39mcasting)\n",
      "\u001b[0;31mValueError\u001b[0m: all the input array dimensions except for the concatenation axis must match exactly, but along dimension 1, the array at index 0 has size 2 and the array at index 1 has size 1"
     ]
    }
   ],
   "source": [
    "hx_p = pt.hstack(construct_HX(A,A,A,D))   # proto only\n",
    "hz_p = pt.hstack(construct_HZ(A,A,A,D))\n",
    "assert hx_p.shape[1] == hz_p.shape[1], \"column mismatch\""
   ]
  },
  {
   "cell_type": "code",
   "execution_count": 9,
   "id": "efac142d-4551-4a58-b29c-4690257c9500",
   "metadata": {},
   "outputs": [
    {
     "ename": "ValueError",
     "evalue": "all the input array dimensions except for the concatenation axis must match exactly, but along dimension 1, the array at index 0 has size 2 and the array at index 1 has size 1",
     "output_type": "error",
     "traceback": [
      "\u001b[0;31m---------------------------------------------------------------------------\u001b[0m",
      "\u001b[0;31mValueError\u001b[0m                                Traceback (most recent call last)",
      "Cell \u001b[0;32mIn[9], line 1\u001b[0m\n\u001b[0;32m----> 1\u001b[0m hx_p \u001b[38;5;241m=\u001b[39m pt\u001b[38;5;241m.\u001b[39mhstack(construct_HX(A,A,A,D))   \u001b[38;5;66;03m# proto only\u001b[39;00m\n\u001b[1;32m      2\u001b[0m hz_p \u001b[38;5;241m=\u001b[39m pt\u001b[38;5;241m.\u001b[39mhstack(construct_HZ(A,A,A,D))\n\u001b[1;32m      3\u001b[0m \u001b[38;5;28;01massert\u001b[39;00m hx_p\u001b[38;5;241m.\u001b[39mshape[\u001b[38;5;241m1\u001b[39m] \u001b[38;5;241m==\u001b[39m hz_p\u001b[38;5;241m.\u001b[39mshape[\u001b[38;5;241m1\u001b[39m], \u001b[38;5;124m\"\u001b[39m\u001b[38;5;124mcolumn mismatch\u001b[39m\u001b[38;5;124m\"\u001b[39m\n",
      "File \u001b[0;32m~/Library/CloudStorage/GoogleDrive-dec2180@columbia.edu/My Drive/2024-25/Thesis/biased_single_shot/lifted_hgp_4d.py:103\u001b[0m, in \u001b[0;36mconstruct_HX\u001b[0;34m(A, B, C, D)\u001b[0m\n\u001b[1;32m     99\u001b[0m \u001b[38;5;66;03m# Consistent shape unpacking\u001b[39;00m\n\u001b[1;32m    100\u001b[0m r, a, b, c, d \u001b[38;5;241m=\u001b[39m B\u001b[38;5;241m.\u001b[39mshape[\u001b[38;5;241m0\u001b[39m], A\u001b[38;5;241m.\u001b[39mshape[\u001b[38;5;241m1\u001b[39m], B\u001b[38;5;241m.\u001b[39mshape[\u001b[38;5;241m1\u001b[39m], C\u001b[38;5;241m.\u001b[39mshape[\u001b[38;5;241m1\u001b[39m], D\u001b[38;5;241m.\u001b[39mshape[\u001b[38;5;241m1\u001b[39m]\n\u001b[1;32m    102\u001b[0m cols \u001b[38;5;241m=\u001b[39m [\n\u001b[0;32m--> 103\u001b[0m     pt\u001b[38;5;241m.\u001b[39mvstack([C, D, Z_cached(r, c), Z_cached(r, d)]),\n\u001b[1;32m    104\u001b[0m     pt\u001b[38;5;241m.\u001b[39mvstack([B, Z_cached(r, b), D, Z_cached(r, c)]),\n\u001b[1;32m    105\u001b[0m     pt\u001b[38;5;241m.\u001b[39mvstack([Z_cached(r, a), B, C, Z_cached(r, b)]),\n\u001b[1;32m    106\u001b[0m     pt\u001b[38;5;241m.\u001b[39mvstack([A, Z_cached(r, a), Z_cached(r, a), D]),\n\u001b[1;32m    107\u001b[0m     pt\u001b[38;5;241m.\u001b[39mvstack([Z_cached(r, a), A, Z_cached(r, a), C]),\n\u001b[1;32m    108\u001b[0m     pt\u001b[38;5;241m.\u001b[39mvstack([Z_cached(r, a), Z_cached(r, a), A, B])\n\u001b[1;32m    109\u001b[0m ]\n\u001b[1;32m    110\u001b[0m log\u001b[38;5;241m.\u001b[39minfo(\u001b[38;5;124m'\u001b[39m\u001b[38;5;124mgot hz rows\u001b[39m\u001b[38;5;124m'\u001b[39m)\n\u001b[1;32m    111\u001b[0m hx1_proto \u001b[38;5;241m=\u001b[39m pt\u001b[38;5;241m.\u001b[39mhstack(cols[:\u001b[38;5;241m3\u001b[39m])\n",
      "File \u001b[0;32m~/anaconda3/lib/python3.11/site-packages/ldpc/protograph.py:323\u001b[0m, in \u001b[0;36mvstack\u001b[0;34m(proto_list)\u001b[0m\n\u001b[1;32m    319\u001b[0m \u001b[38;5;28;01mdef\u001b[39;00m \u001b[38;5;21mvstack\u001b[39m(proto_list):\n\u001b[1;32m    320\u001b[0m \u001b[38;5;250m    \u001b[39m\u001b[38;5;124;03m\"\"\"\u001b[39;00m\n\u001b[1;32m    321\u001b[0m \u001b[38;5;124;03m    vstack function for protographs\u001b[39;00m\n\u001b[1;32m    322\u001b[0m \u001b[38;5;124;03m    \"\"\"\u001b[39;00m\n\u001b[0;32m--> 323\u001b[0m     \u001b[38;5;28;01mreturn\u001b[39;00m np\u001b[38;5;241m.\u001b[39mvstack(proto_list)\u001b[38;5;241m.\u001b[39mview(array)\n",
      "File \u001b[0;32m~/anaconda3/lib/python3.11/site-packages/numpy/core/shape_base.py:289\u001b[0m, in \u001b[0;36mvstack\u001b[0;34m(tup, dtype, casting)\u001b[0m\n\u001b[1;32m    287\u001b[0m \u001b[38;5;28;01mif\u001b[39;00m \u001b[38;5;129;01mnot\u001b[39;00m \u001b[38;5;28misinstance\u001b[39m(arrs, \u001b[38;5;28mlist\u001b[39m):\n\u001b[1;32m    288\u001b[0m     arrs \u001b[38;5;241m=\u001b[39m [arrs]\n\u001b[0;32m--> 289\u001b[0m \u001b[38;5;28;01mreturn\u001b[39;00m _nx\u001b[38;5;241m.\u001b[39mconcatenate(arrs, \u001b[38;5;241m0\u001b[39m, dtype\u001b[38;5;241m=\u001b[39mdtype, casting\u001b[38;5;241m=\u001b[39mcasting)\n",
      "\u001b[0;31mValueError\u001b[0m: all the input array dimensions except for the concatenation axis must match exactly, but along dimension 1, the array at index 0 has size 2 and the array at index 1 has size 1"
     ]
    }
   ],
   "source": [
    "hx_p = pt.hstack(construct_HX(A,A,A,D))   # proto only\n",
    "hz_p = pt.hstack(construct_HZ(A,A,A,D))\n",
    "assert hx_p.shape[1] == hz_p.shape[1], \"column mismatch\"\n"
   ]
  },
  {
   "cell_type": "code",
   "execution_count": 4,
   "id": "8873c315-5f51-4153-a6bd-d3064f9d9fc3",
   "metadata": {},
   "outputs": [
    {
     "name": "stdout",
     "output_type": "stream",
     "text": [
      "hx bin shape (168, 84)\n",
      "hx bin shape (56, 252)\n"
     ]
    },
    {
     "ename": "Exception",
     "evalue": "Error: hx and hz matrices must have equal numbers of columns!",
     "output_type": "error",
     "traceback": [
      "\u001b[0;31m---------------------------------------------------------------------------\u001b[0m",
      "\u001b[0;31mAssertionError\u001b[0m                            Traceback (most recent call last)",
      "File \u001b[0;32m~/anaconda3/lib/python3.11/site-packages/bposd/css.py:34\u001b[0m, in \u001b[0;36mcss_code.__init__\u001b[0;34m(self, hx, hz, code_distance, name)\u001b[0m\n\u001b[1;32m     33\u001b[0m \u001b[38;5;28;01mtry\u001b[39;00m:\n\u001b[0;32m---> 34\u001b[0m     \u001b[38;5;28;01massert\u001b[39;00m nx \u001b[38;5;241m==\u001b[39m nz\n\u001b[1;32m     35\u001b[0m \u001b[38;5;28;01mexcept\u001b[39;00m \u001b[38;5;167;01mAssertionError\u001b[39;00m:\n",
      "\u001b[0;31mAssertionError\u001b[0m: ",
      "\nDuring handling of the above exception, another exception occurred:\n",
      "\u001b[0;31mException\u001b[0m                                 Traceback (most recent call last)",
      "Cell \u001b[0;32mIn[4], line 34\u001b[0m\n\u001b[1;32m     29\u001b[0m D \u001b[38;5;241m=\u001b[39m pt\u001b[38;5;241m.\u001b[39marray([ [twist_edge] ] \u001b[38;5;241m*\u001b[39m R)      \u001b[38;5;66;03m# replicate so D has 3 rows\u001b[39;00m\n\u001b[1;32m     31\u001b[0m \u001b[38;5;66;03m# ------------------------------------------------------------\u001b[39;00m\n\u001b[1;32m     32\u001b[0m \u001b[38;5;66;03m# 4)  Construct the lifted code\u001b[39;00m\n\u001b[1;32m     33\u001b[0m \u001b[38;5;66;03m# ------------------------------------------------------------\u001b[39;00m\n\u001b[0;32m---> 34\u001b[0m qcode \u001b[38;5;241m=\u001b[39m lifted_hgp_4d(L, a\u001b[38;5;241m=\u001b[39mA, b\u001b[38;5;241m=\u001b[39mA, c\u001b[38;5;241m=\u001b[39mA, d\u001b[38;5;241m=\u001b[39mD)   \u001b[38;5;66;03m# or bias_tailored_lifted_product\u001b[39;00m\n\u001b[1;32m     35\u001b[0m HX     \u001b[38;5;241m=\u001b[39m qcode\u001b[38;5;241m.\u001b[39mhx\n\u001b[1;32m     36\u001b[0m HZ     \u001b[38;5;241m=\u001b[39m qcode\u001b[38;5;241m.\u001b[39mhz\n",
      "File \u001b[0;32m~/Library/CloudStorage/GoogleDrive-dec2180@columbia.edu/My Drive/2024-25/Thesis/biased_single_shot/lifted_hgp_4d.py:201\u001b[0m, in \u001b[0;36mlifted_hgp_4d.__init__\u001b[0;34m(self, lift_parameter, a, b, c, d, verbose)\u001b[0m\n\u001b[1;32m    198\u001b[0m \u001b[38;5;28mprint\u001b[39m(\u001b[38;5;124m'\u001b[39m\u001b[38;5;124mhx bin shape\u001b[39m\u001b[38;5;124m'\u001b[39m, \u001b[38;5;28mself\u001b[39m\u001b[38;5;241m.\u001b[39mhx_proto\u001b[38;5;241m.\u001b[39mto_binary(lift_parameter)\u001b[38;5;241m.\u001b[39mshape)\n\u001b[1;32m    199\u001b[0m \u001b[38;5;28mprint\u001b[39m(\u001b[38;5;124m'\u001b[39m\u001b[38;5;124mhx bin shape\u001b[39m\u001b[38;5;124m'\u001b[39m, \u001b[38;5;28mself\u001b[39m\u001b[38;5;241m.\u001b[39mhz_proto\u001b[38;5;241m.\u001b[39mto_binary(lift_parameter)\u001b[38;5;241m.\u001b[39mshape)\n\u001b[0;32m--> 201\u001b[0m \u001b[38;5;28msuper\u001b[39m()\u001b[38;5;241m.\u001b[39m\u001b[38;5;21m__init__\u001b[39m(\u001b[38;5;28mself\u001b[39m\u001b[38;5;241m.\u001b[39mhx_proto\u001b[38;5;241m.\u001b[39mto_binary(lift_parameter),\u001b[38;5;28mself\u001b[39m\u001b[38;5;241m.\u001b[39mhz_proto\u001b[38;5;241m.\u001b[39mto_binary(lift_parameter))\n",
      "File \u001b[0;32m~/anaconda3/lib/python3.11/site-packages/bposd/css.py:36\u001b[0m, in \u001b[0;36mcss_code.__init__\u001b[0;34m(self, hx, hz, code_distance, name)\u001b[0m\n\u001b[1;32m     34\u001b[0m     \u001b[38;5;28;01massert\u001b[39;00m nx \u001b[38;5;241m==\u001b[39m nz\n\u001b[1;32m     35\u001b[0m \u001b[38;5;28;01mexcept\u001b[39;00m \u001b[38;5;167;01mAssertionError\u001b[39;00m:\n\u001b[0;32m---> 36\u001b[0m     \u001b[38;5;28;01mraise\u001b[39;00m \u001b[38;5;167;01mException\u001b[39;00m(\n\u001b[1;32m     37\u001b[0m         \u001b[38;5;124m\"\u001b[39m\u001b[38;5;124mError: hx and hz matrices must have equal numbers of columns!\u001b[39m\u001b[38;5;124m\"\u001b[39m\n\u001b[1;32m     38\u001b[0m     )\n\u001b[1;32m     40\u001b[0m \u001b[38;5;28;01mif\u001b[39;00m nx \u001b[38;5;241m!=\u001b[39m \u001b[38;5;241m0\u001b[39m:\n\u001b[1;32m     41\u001b[0m     \u001b[38;5;28mself\u001b[39m\u001b[38;5;241m.\u001b[39mcompute_dimension()\n",
      "\u001b[0;31mException\u001b[0m: Error: hx and hz matrices must have equal numbers of columns!"
     ]
    }
   ],
   "source": [
    "import ldpc.protograph as pt\n",
    "from lifted_hgp_4d import lifted_hgp_4d               # or bias_tailored_lifted_product\n",
    "                                                         # depending on which builder you use\n",
    "\n",
    "# ------------------------------------------------------------\n",
    "# 1)  Choose basic parameters\n",
    "# ------------------------------------------------------------\n",
    "n1, n2        = 2, 7                    # horizontal / vertical cell count\n",
    "L             = n1 * n2                 # total 4-cells\n",
    "R, C          = 3, 1                    # ***rows > cols  ⇒  M >= N  after lifting***\n",
    "\n",
    "# ------------------------------------------------------------\n",
    "# 2)  Define edge lists for each protograph cell\n",
    "#     (one list per *row*, identical across A,B,C for simplicity)\n",
    "# ------------------------------------------------------------\n",
    "face1 = [(0, 1)]                        # original X-face\n",
    "face2 = [(1, 0)]                        # orthogonal face\n",
    "face3 = [(1, 1)]                        # diagonal face   (extra stabiliser)\n",
    "\n",
    "row_edges = [face1, face2, face3]       # 3 independent rows\n",
    "\n",
    "# Build a 3 × 1 protograph from those rows\n",
    "A = pt.array(row_edges)                 # shape (3, 1)\n",
    "\n",
    "# ------------------------------------------------------------\n",
    "# 3)  Twist protograph D  –– must have same shape (3 × 1)\n",
    "# ------------------------------------------------------------\n",
    "twist_edge = (0, n2)                    # shift that forces the “delta_D” twist\n",
    "D = pt.array([ [twist_edge] ] * R)      # replicate so D has 3 rows\n",
    "\n",
    "# ------------------------------------------------------------\n",
    "# 4)  Construct the lifted code\n",
    "# ------------------------------------------------------------\n",
    "qcode = lifted_hgp_4d(L, a=A, b=B, c=C, d=D)   # or bias_tailored_lifted_product \n",
    "print(\"HX shape:\", qcode.hx.shape)\n",
    "print(\"HZ shape:\", qcode.hz.shape)\n"
   ]
  },
  {
   "cell_type": "code",
   "execution_count": 229,
   "id": "edb9fe11-cdf6-47e2-99ee-ade02bfec0c7",
   "metadata": {},
   "outputs": [],
   "source": [
    "# import ldpc.protograph as pt\n",
    "# from lifted_hgp_4d import lifted_hgp_4d\n",
    "\n",
    "# n1, n2 = 2, 7\n",
    "# L = n1 * n2\n",
    "\n",
    "# # --- richer protographs -------------------------------------------------\n",
    "# a = pt.array([[(0, 1), (1, 0), (1, 1)]])   # 3 edges in same cell\n",
    "# b = a                                      # keep identical for simplicity\n",
    "# c = a\n",
    "# d = pt.array([[(0, n2)]])                  # twist unchanged\n",
    "\n",
    "# # --- build code ----------------------------------------------------------\n",
    "# qcode = lifted_hgp_4d(L, a=a, b=b, c=c, d=d)\n",
    "# print(\"HX shape:\", qcode.hx.shape)         # should be 3L × 3L\n"
   ]
  },
  {
   "cell_type": "code",
   "execution_count": 161,
   "id": "1631cab9-7273-4331-8eac-506877b3ceba",
   "metadata": {},
   "outputs": [
    {
     "name": "stdout",
     "output_type": "stream",
     "text": [
      "Matrix size: M=56 rows x N=84 columns\n",
      "N / M ratio: 0.667\n"
     ]
    },
    {
     "data": {
      "text/plain": [
       "False"
      ]
     },
     "execution_count": 161,
     "metadata": {},
     "output_type": "execute_result"
    }
   ],
   "source": []
  },
  {
   "cell_type": "code",
   "execution_count": 92,
   "id": "c31ea511-4baf-44a0-a32c-57cb004aa028",
   "metadata": {},
   "outputs": [],
   "source": []
  },
  {
   "cell_type": "code",
   "execution_count": null,
   "id": "bc11c467-00e9-4d27-a42c-2727b668bb08",
   "metadata": {},
   "outputs": [],
   "source": []
  },
  {
   "cell_type": "code",
   "execution_count": null,
   "id": "c53a1e5e-01ad-4410-a90b-b2614ffdb570",
   "metadata": {},
   "outputs": [],
   "source": []
  }
 ],
 "metadata": {
  "kernelspec": {
   "display_name": "Python [conda env:base] *",
   "language": "python",
   "name": "conda-base-py"
  },
  "language_info": {
   "codemirror_mode": {
    "name": "ipython",
    "version": 3
   },
   "file_extension": ".py",
   "mimetype": "text/x-python",
   "name": "python",
   "nbconvert_exporter": "python",
   "pygments_lexer": "ipython3",
   "version": "3.11.11"
  }
 },
 "nbformat": 4,
 "nbformat_minor": 5
}
