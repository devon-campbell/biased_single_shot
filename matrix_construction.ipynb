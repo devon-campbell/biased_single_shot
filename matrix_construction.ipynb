{
 "cells": [
  {
   "cell_type": "code",
   "execution_count": 10,
   "id": "f327f65e-7c70-495f-a28f-657545e55bdf",
   "metadata": {},
   "outputs": [],
   "source": [
    "import numpy as np\n",
    "import math"
   ]
  },
  {
   "cell_type": "code",
   "execution_count": 17,
   "id": "6ecf1204-3dba-4eae-a6e9-fd13d9ada0ab",
   "metadata": {},
   "outputs": [],
   "source": [
    "def mod2(A):\n",
    "    \"\"\"Reduce a numpy integer matrix A modulo 2.\"\"\"\n",
    "    return np.remainder(A, 2)\n",
    "\n",
    "def build_2d_matrices(delta0):\n",
    "    k, j = delta0.shape\n",
    "    I_k = np.eye(k, dtype=int)  # Identity matching # of rows of H\n",
    "    I_j = np.eye(j, dtype=int)  # Identity matching # of columns of H\n",
    "\n",
    "    # Eq. (43):\n",
    "    #  tilde_delta_{-1} = [ 1 ⊗ delta0^T\n",
    "    #                      delta0 ⊗ 1    ]\n",
    "    delta_m1_2d = np.block([\n",
    "        [np.kron(I_j, delta0.T)],\n",
    "        [np.kron(delta0, I_k)]\n",
    "    ])\n",
    "    \n",
    "    #  tilde_delta_0 = [ delta0 ⊗ 1   |   1 ⊗ delta0^T ]\n",
    "    delta_0_2d = np.block([\n",
    "        [np.kron(delta0, I_j), np.kron(I_k, delta0.T)]\n",
    "    ])\n",
    "\n",
    "    return mod2(delta_m1_2d), mod2(delta_0_2d)\n",
    "\n",
    "def build_4d_matrices(delta_m1_2d, delta_0_2d):\n",
    "    \"\"\"\n",
    "    Parameters\n",
    "    ----------\n",
    "    delta_m1_2d : The matrix δ₋₁ from previous construction.\n",
    "    delta_0_2d : The matrix δ₀ from previous construction.\n",
    "\n",
    "    Returns\n",
    "    -------\n",
    "    mz : Eqn. (58)\n",
    "    hz : Eqn. (59)\n",
    "    hx : Eqn. (60)\n",
    "    mx : Eqn. (61) \n",
    "    \"\"\"\n",
    "    k, j = delta_0_2d.shape\n",
    "    print(f'delta_0_2d.shape: {delta_0_2d.shape}')\n",
    "    print(f'delta_m1_2d.shape: {delta_m1_2d.shape}')\n",
    "\n",
    "    # (58) δ₋₂ =  ( I ⊗ δ₀ᵀ )\n",
    "    #             ( δ₋₁ ⊗ I  )\n",
    "    mz = np.vstack([\n",
    "        np.kron(np.eye(k), delta_0_2d.T),\n",
    "        np.kron(delta_m1_2d, np.eye(k))\n",
    "    ])\n",
    "\n",
    "    # (59) δ₋₁(new):\n",
    "    top_left  = np.kron(np.eye(k), delta_m1_2d.T)\n",
    "    top_right = np.zeros_like(top_left)\n",
    "    mid_left  = np.kron(delta_m1_2d, np.eye(j))\n",
    "    mid_right = np.kron(np.eye(j), delta_0_2d.T)\n",
    "    bot_right = np.kron(delta_0_2d, np.eye(k))\n",
    "    bot_left = np.zeros_like(bot_right)\n",
    "    hz = np.block([\n",
    "        [top_left,  top_right],\n",
    "        [mid_left,  mid_right],\n",
    "        [bot_left,  bot_right]\n",
    "    ])   \n",
    "\n",
    "    hz_1_4d = np.hstack([top_left.T, top_right.T])\n",
    "    hz_2_4d = np.hstack([mid_left.T, mid_right.T])\n",
    "    hz_3_4d = np.hstack([bot_left.T, bot_right.T])\n",
    "\n",
    "    # (60) δ₀(new) :\n",
    "    top_left  = np.kron(delta_m1_2d, np.eye(k))\n",
    "    top_mid = np.kron(np.eye(j), delta_m1_2d.T)\n",
    "    top_right = np.zeros_like(top_left)\n",
    "    bot_left  = np.zeros_like(top_left)\n",
    "    bot_mid = np.kron(delta_0_2d, np.eye(j))\n",
    "    bot_right = np.kron(np.eye(k), delta_0_2d.T)\n",
    "    hx = np.block([\n",
    "        [top_left, top_mid, top_right],\n",
    "        [bot_left,  bot_mid, bot_right]\n",
    "    ]) \n",
    "    \n",
    "    hx_1_4d = np.block([top_left, bot_left])\n",
    "    hx_2_4d = np.block([top_mid, bot_mid])\n",
    "    hx_3_4d = np.block([top_right, bot_right])\n",
    "\n",
    "    h_4d = np.hstack([hx_1_4d, hx_2_4d, hx_3_4d, hz_3_4d, hz_2_4d, hz_1_4d])\n",
    "    sector_lengths = hx_1_4d.shape[1], hx_2_4d.shape[1], hx_3_4d.shape[1]\n",
    "    print('Hx SHAPES: ', hx_1_4d.shape, hx_2_4d.shape, hx_3_4d.shape)\n",
    "    print('Sector lens: ', hx_1_4d.shape[1], hx_2_4d.shape[1], hx_3_4d.shape[1])\n",
    "\n",
    "    # (61) δ₁(new):\n",
    "    mx =  np.hstack([\n",
    "        np.kron(delta_0_2d, np.eye(k)),\n",
    "        np.kron(np.eye(k), delta_m1_2d.T)\n",
    "    ])\n",
    "\n",
    "    return mz, hz, hx, mx"
   ]
  },
  {
   "cell_type": "code",
   "execution_count": 19,
   "id": "13749cb2-ab3e-4144-8080-f16832273a3b",
   "metadata": {},
   "outputs": [
    {
     "name": "stdout",
     "output_type": "stream",
     "text": [
      "input matrix shape: (2, 3)\n",
      "delta_0_2d.shape: (6, 13)\n",
      "delta_m1_2d.shape: (13, 6)\n",
      "Hx SHAPES:  (78, 72) (78, 338) (78, 72)\n",
      "Sector lens:  72 338 72\n",
      "\n",
      "mz: (156, 36)\n",
      "hz (241, 156)\n",
      "hx: (156, 241)\n",
      "mx: (36, 156)\n",
      "δ_{-2} * δ_{-1} ≡ 0 mod 2: True\n",
      "δ_{-1} * δ_{0} ≡ 0 mod 2: True\n",
      "δ_{0} * δ_{1} ≡ 0 mod 2: True\n",
      "\n"
     ]
    }
   ],
   "source": [
    "def verify_delta_condition(delta_i, delta_i_minus_1):\n",
    "    \"\"\"\n",
    "    Verify that δ_i * δ_{i-1} = 0 mod 2.\n",
    "    \"\"\"\n",
    "    product = np.mod(np.dot(delta_i, delta_i_minus_1), 2)  # Compute δ_i * δ_{i-1} mod 2\n",
    "    return np.all(product == 0)  # Check if all entries are zero\n",
    "\n",
    "delta0_works = np.array([[1, 1, 0], \n",
    "                         [0, 1, 1]], dtype=float)\n",
    "\n",
    "\n",
    "delta0_fails = np.array([[1, 1, 0], \n",
    "                           [0, 1, 1,], \n",
    "                           [1, 0, 1]], dtype=float)\n",
    "\n",
    "delta0_try = np.array([[1, 1, 0, 0], \n",
    "                       [0, 1, 1, 0], \n",
    "                       [0, 0, 1, 1]], dtype=float)\n",
    "\n",
    "for delta0 in [delta0_works, delta0_fails, delta0_try]:\n",
    "    dm1, d0 = build_2d_matrices(delta0)\n",
    "    print(f'input matrix shape: {delta0.shape}')\n",
    "    mz, hz, hx, mx = build_4d_matrices(dm1, d0)\n",
    "    print()\n",
    "    print(\"mz:\", mz.shape)\n",
    "    print(\"hz\", hz.shape,)\n",
    "    print(\"hx:\", hx.shape)\n",
    "    print(\"mx:\", mx.shape)\n",
    "\n",
    "    # Verify condition δ_{i} * δ_{i-1} = 0 mod 2 for each consecutive pair\n",
    "    print(\"δ_{-2} * δ_{-1} ≡ 0 mod 2:\", verify_delta_condition(hz, mz))\n",
    "    print(\"δ_{-1} * δ_{0} ≡ 0 mod 2:\", verify_delta_condition(hx, hz))\n",
    "    print(\"δ_{0} * δ_{1} ≡ 0 mod 2:\", verify_delta_condition(mx, hx))\n",
    "    print()\n",
    "    break"
   ]
  },
  {
   "cell_type": "code",
   "execution_count": 52,
   "id": "d257c6bf-d43f-4665-9c53-51503a169707",
   "metadata": {},
   "outputs": [],
   "source": [
    "import numpy as np\n",
    "from ldpc.codes import ring_code\n",
    "from ldpc.code_util import compute_code_distance\n",
    "import ldpc.mod2 as mod2\n",
    "from ldpc import protograph as pt\n",
    "from ldpc.codes import hamming_code\n",
    "from bposd.css import css_code\n",
    "from bposd.hgp import hgp\n",
    "from lifted_hgp import *\n",
    "from css_ss_decode_sim import css_ss_decode_sim"
   ]
  },
  {
   "cell_type": "code",
   "execution_count": 104,
   "id": "7b07f70a-708a-46cc-8250-ba76bbb86ae2",
   "metadata": {},
   "outputs": [],
   "source": [
    "a1=pt.array([\n",
    "        [(0), (11), (7), (12)],\n",
    "        [(1), (8), (1), (8)],\n",
    "        [(11), (0), (4), (8)],\n",
    "        [(6), (2), (4), (12)]])\n",
    "\n",
    "from lifted_hgp import lifted_hgp\n",
    "qcode=lifted_hgp(lift_parameter=13,a=a1,b=a1)\n",
    "\n",
    "# hx=qcode.hx_proto.to_binary(lift_parameter=13)\n",
    "# hz=qcode.hz_proto.to_binary(lift_parameter=13)\n",
    "\n",
    "# qcode=css_code(hx,hz)\n",
    "# qcode.test()"
   ]
  },
  {
   "cell_type": "code",
   "execution_count": 106,
   "id": "d5f5f5fd-f01b-4e43-b116-9c97b3767707",
   "metadata": {},
   "outputs": [
    {
     "data": {
      "text/plain": [
       "(52, 52)"
      ]
     },
     "execution_count": 106,
     "metadata": {},
     "output_type": "execute_result"
    }
   ],
   "source": [
    "a1.to_binary(lift_parameter=13).shape"
   ]
  },
  {
   "cell_type": "code",
   "execution_count": 108,
   "id": "879f3889-a0a9-4a64-96dd-99fb75c73992",
   "metadata": {},
   "outputs": [
    {
     "data": {
      "text/plain": [
       "(208, 416)"
      ]
     },
     "execution_count": 108,
     "metadata": {},
     "output_type": "execute_result"
    }
   ],
   "source": [
    "hx.shape"
   ]
  },
  {
   "cell_type": "code",
   "execution_count": 110,
   "id": "c4325173-ea58-48b7-a53d-3ce409e1344f",
   "metadata": {},
   "outputs": [
    {
     "data": {
      "text/plain": [
       "(208, 416)"
      ]
     },
     "execution_count": 110,
     "metadata": {},
     "output_type": "execute_result"
    }
   ],
   "source": [
    "hz.shape"
   ]
  },
  {
   "cell_type": "code",
   "execution_count": 266,
   "id": "b2925e89-d548-4905-b414-483781d48b6f",
   "metadata": {},
   "outputs": [
    {
     "name": "stdout",
     "output_type": "stream",
     "text": [
      "δ_{-2} * δ_{-1} ≡ 0 mod 2: True\n",
      "δ_{-1} * δ_{0} ≡ 0 mod 2: True\n",
      "δ_{0} * δ_{1} ≡ 0 mod 2: True\n",
      "<Unnamed CSS code>\n",
      " -Block dimensions: Pass\n",
      " -PCMs commute hz@hx.T==0: Pass\n",
      " -PCMs commute hx@hz.T==0: Pass\n",
      " -lx \\in ker{hz} AND lz \\in ker{hx}: Pass\n",
      " -lx and lz anticommute: Pass\n",
      " -<Unnamed CSS code> is a valid CSS code w/ params [1536,6,nan]\n"
     ]
    },
    {
     "data": {
      "text/plain": [
       "True"
      ]
     },
     "execution_count": 266,
     "metadata": {},
     "output_type": "execute_result"
    }
   ],
   "source": [
    "H=pt.array([[(0,1)]]).to_binary(lift_parameter=4)\n",
    "\n",
    "dm1, d0 = build_2d_matrices(H)\n",
    "mz, hz, hx, mx = build_4d_matrices(dm1, d0)\n",
    "\n",
    "print(\"δ_{-2} * δ_{-1} ≡ 0 mod 2:\", verify_delta_condition(hz, mz))\n",
    "print(\"δ_{-1} * δ_{0} ≡ 0 mod 2:\", verify_delta_condition(hx, hz))\n",
    "print(\"δ_{0} * δ_{1} ≡ 0 mod 2:\", verify_delta_condition(mx, hx))\n",
    "\n",
    "qcode=css_code(hx,hz.T)\n",
    "qcode.test()"
   ]
  },
  {
   "cell_type": "code",
   "execution_count": 164,
   "id": "e1b258ed-bd36-45be-a46d-ea0f5210e66e",
   "metadata": {},
   "outputs": [
    {
     "data": {
      "text/plain": [
       "(1024, 1536)"
      ]
     },
     "execution_count": 164,
     "metadata": {},
     "output_type": "execute_result"
    }
   ],
   "source": [
    "hx.shape"
   ]
  },
  {
   "cell_type": "code",
   "execution_count": 261,
   "id": "0dbd1745-b569-4255-a319-6a247eb00015",
   "metadata": {},
   "outputs": [],
   "source": [
    "nx, N = hx.shape\n",
    "e = np.random.randint(0, 2, size=(N, 1))\n",
    "f = np.random.randint(0, 2, size=(N, 1))\n",
    "u_e = np.random.randint(0, 2, size=(nx, 1))\n",
    "u_f = np.random.randint(0, 2, size=(nx, 1))\n",
    "\n",
    "# Compute syndromes from hx and hz\n",
    "syndrome_x = (hx @ e) % 2\n",
    "syndrome_z = (hz.T @ e) % 2\n",
    "\n",
    "# Compute syndromes from mx and mz\n",
    "measured_syndrome_x = (mx @ u_e) % 2\n",
    "measured_syndrome_z = (mz.T @ u_f) % 2"
   ]
  },
  {
   "cell_type": "code",
   "execution_count": null,
   "id": "7a3dea21-ed81-4373-b442-283e7b8617fb",
   "metadata": {},
   "outputs": [],
   "source": []
  }
 ],
 "metadata": {
  "kernelspec": {
   "display_name": "Python [conda env:base] *",
   "language": "python",
   "name": "conda-base-py"
  },
  "language_info": {
   "codemirror_mode": {
    "name": "ipython",
    "version": 3
   },
   "file_extension": ".py",
   "mimetype": "text/x-python",
   "name": "python",
   "nbconvert_exporter": "python",
   "pygments_lexer": "ipython3",
   "version": "3.11.11"
  }
 },
 "nbformat": 4,
 "nbformat_minor": 5
}
