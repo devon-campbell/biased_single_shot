{
 "cells": [
  {
   "cell_type": "code",
   "execution_count": 55,
   "id": "9e9c8224-ec86-431e-b8e1-346d62533ff2",
   "metadata": {},
   "outputs": [],
   "source": [
    "# Combine PEG-generated QC protograph with ldpc.protograph\n",
    "from graphs import QC_tanner_graph\n",
    "import numpy as np\n",
    "import ldpc.protograph as pt\n",
    "\n",
    "def qc_proto_to_pt(proto_matrix, N):\n",
    "    \"\"\"\n",
    "    Convert QC_tanner_graph.proto (‑1 or shift) to ldpc.protograph.array,\n",
    "    compensating for the opposite column ordering convention.\n",
    "    \"\"\"\n",
    "    m, n = proto_matrix.shape\n",
    "    obj = np.empty((m, n), dtype=object)\n",
    "\n",
    "    for i in range(m):\n",
    "        for j in range(n):\n",
    "            s = int(proto_matrix[i, j])\n",
    "            obj[i, j] = () if s == -1 else ((-s) % N,)\n",
    "\n",
    "    return pt.array(obj)\n",
    "\n",
    "# Load QC protograph from PEG generator\n",
    "G = QC_tanner_graph.read(\"test.qc\")\n",
    "A = qc_proto_to_pt(G.proto, N=G.N)         # convert to pt.array\n",
    "\n",
    "# sanity check: binary matrices must match\n",
    "H_qc   = G.get_H()\n",
    "H_pt   = A.to_binary(lift_parameter=G.N)\n",
    "assert np.array_equal(H_qc, H_pt)"
   ]
  }
 ],
 "metadata": {
  "kernelspec": {
   "display_name": "Python [conda env:base] *",
   "language": "python",
   "name": "conda-base-py"
  },
  "language_info": {
   "codemirror_mode": {
    "name": "ipython",
    "version": 3
   },
   "file_extension": ".py",
   "mimetype": "text/x-python",
   "name": "python",
   "nbconvert_exporter": "python",
   "pygments_lexer": "ipython3",
   "version": "3.11.11"
  }
 },
 "nbformat": 4,
 "nbformat_minor": 5
}
