{
 "cells": [
  {
   "cell_type": "code",
   "execution_count": 31,
   "id": "6d3f9926-a61b-478c-bd52-2392027502b7",
   "metadata": {},
   "outputs": [],
   "source": [
    "from tqdm import tqdm\n",
    "import json\n",
    "import time\n",
    "import numpy as np\n",
    "from ldpc.codes import ring_code\n",
    "from ldpc.code_util import compute_code_distance\n",
    "import ldpc.mod2 as mod2\n",
    "from ldpc import protograph as pt\n",
    "from ldpc.codes import hamming_code\n",
    "from bposd.css import css_code\n",
    "from bposd.hgp import hgp\n",
    "from css_ss_decode_sim import css_ss_decode_sim\n",
    "from lifted_hgp_4d import *\n",
    "from bposd.css_decode_sim import css_decode_sim\n",
    "import logging\n",
    "from functools import reduce\n",
    "from z3 import Optimize, Bool, Xor, Sum, If, Or, is_true, sat, Solver\n",
    "import datetime\n",
    "from distance import compute_min_hamming_distance\n",
    "from ldpc import BpOsdDecoder\n",
    "import scipy\n",
    "from collections import Counter\n",
    "import itertools\n",
    "import os\n",
    "from mm_qc_pega.graphs import QC_tanner_graph\n",
    "import yaml\n"
   ]
  },
  {
   "cell_type": "code",
   "execution_count": 33,
   "id": "81e04951-8078-4bef-8387-ce944f881ca5",
   "metadata": {},
   "outputs": [],
   "source": [
    "# Load QC protograph from PEG generator\n",
    "def qc_proto_to_pt(proto_matrix, N):\n",
    "    \"\"\"\n",
    "    Convert QC_tanner_graph.proto to ldpc.protograph.array,\n",
    "    \"\"\"\n",
    "    m, n = proto_matrix.shape\n",
    "    obj = np.empty((m, n), dtype=object)\n",
    "\n",
    "    for i in range(m):\n",
    "        for j in range(n):\n",
    "            s = int(proto_matrix[i, j])\n",
    "            obj[i, j] = () if s == -1 else ((-s) % N,)\n",
    "\n",
    "    return pt.array(obj)"
   ]
  },
  {
   "cell_type": "code",
   "execution_count": 62,
   "id": "e9f505b8-1d12-42ae-9ce2-380a75d32eb9",
   "metadata": {},
   "outputs": [],
   "source": [
    "with open(\"mm_qc_pega/config.yml\", \"r\") as ymlfile:\n",
    "    settings = yaml.safe_load(ymlfile)\n",
    "    path = settings[\"output_fname\"]\n",
    "    codename = path.split(\"/\")[-1].split(\".\")[0]"
   ]
  },
  {
   "cell_type": "code",
   "execution_count": 66,
   "id": "5e39bc08-9a7f-462b-94cb-9c03dca3545a",
   "metadata": {},
   "outputs": [],
   "source": [
    "G = QC_tanner_graph.read(f\"mm_qc_pega/{path}\")"
   ]
  },
  {
   "cell_type": "code",
   "execution_count": 72,
   "id": "5b458e75-f011-4eb5-bc45-f277dc58bf33",
   "metadata": {},
   "outputs": [],
   "source": [
    "G = QC_tanner_graph.read(f\"mm_qc_pega/{path}\")\n",
    "A_p = qc_proto_to_pt(G.proto, N=G.N)         # convert to pt.array\n",
    "\n",
    "# sanity check: binary matrices must match\n",
    "H_qc   = G.get_H()\n",
    "H_pt   = A_p.to_binary(lift_parameter=G.N)\n",
    "assert np.array_equal(H_qc, H_pt)"
   ]
  },
  {
   "cell_type": "code",
   "execution_count": null,
   "id": "0ec70b5a-a8e7-4681-aca4-88acce5130d4",
   "metadata": {},
   "outputs": [
    {
     "name": "stderr",
     "output_type": "stream",
     "text": [
      "[2025-05-05 00:12:23,599] [INFO] Got identity matrices\n",
      "[2025-05-05 00:12:23,601] [INFO] Computing A from scratch\n",
      "[2025-05-05 00:16:09,597] [INFO] Computing B from scratch\n",
      "[2025-05-05 00:20:12,748] [INFO] Computing C from scratch\n",
      "[2025-05-05 00:24:15,745] [INFO] Computing D from scratch\n",
      "[2025-05-05 00:28:39,036] [INFO] Constructed A, B, C, D in 975.495 seconds\n",
      "[2025-05-05 00:28:39,143] [INFO] Got Kronecker blocks A–D\n",
      "[2025-05-05 00:28:39,148] [INFO] Computing mz from scratch\n"
     ]
    }
   ],
   "source": [
    "mz_proto, hz1_proto, hz2_proto, hx1_proto, hx2_proto, mx_proto = construct_4d_matrices(A_p, A_p, A_p, A_p, codename)"
   ]
  },
  {
   "cell_type": "code",
   "execution_count": null,
   "id": "016a8e5f-5635-4bb8-a0d4-795f01612b5a",
   "metadata": {},
   "outputs": [],
   "source": [
    "qcode = lifted_hgp_4d(G.N, a=A_p, b=A_p, c=A_p, d=A_p, verbose=True)"
   ]
  }
 ],
 "metadata": {
  "kernelspec": {
   "display_name": "Python [conda env:base] *",
   "language": "python",
   "name": "conda-base-py"
  },
  "language_info": {
   "codemirror_mode": {
    "name": "ipython",
    "version": 3
   },
   "file_extension": ".py",
   "mimetype": "text/x-python",
   "name": "python",
   "nbconvert_exporter": "python",
   "pygments_lexer": "ipython3",
   "version": "3.11.11"
  }
 },
 "nbformat": 4,
 "nbformat_minor": 5
}
