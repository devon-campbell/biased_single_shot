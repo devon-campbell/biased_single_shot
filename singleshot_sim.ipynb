{
 "cells": [
  {
   "cell_type": "code",
   "execution_count": 65,
   "id": "93d3be38-eefb-4d80-b7d0-f32e81daae4e",
   "metadata": {},
   "outputs": [],
   "source": [
    "import numpy as np\n",
    "from ldpc.codes import ring_code\n",
    "from ldpc.code_util import compute_code_distance\n",
    "import ldpc.mod2 as mod2\n",
    "from ldpc import protograph as pt\n",
    "from ldpc.codes import hamming_code\n",
    "from bposd.css import css_code\n",
    "from bposd.hgp import hgp\n",
    "from lifted_hgp import *\n",
    "from css_ss_decode_sim import css_ss_decode_sim\n",
    "#from bposd.css_decode_sim import css_decode_sim"
   ]
  },
  {
   "cell_type": "code",
   "execution_count": 69,
   "id": "d5d2d024-4c83-43b1-81d6-f11e85065467",
   "metadata": {},
   "outputs": [],
   "source": [
    "a1=pt.array([\n",
    "        [(0), (11), (7), (12)],\n",
    "        [(1), (8), (1), (8)],\n",
    "        [(11), (0), (4), (8)],\n",
    "        [(6), (2), (4), (12)]])\n",
    "\n",
    "from lifted_hgp import lifted_hgp\n",
    "qcode=lifted_hgp(lift_parameter=13,a=a1,b=a1)"
   ]
  },
  {
   "cell_type": "code",
   "execution_count": 71,
   "id": "5781c6d8-1c75-4e82-a5a5-33459d2928b2",
   "metadata": {},
   "outputs": [],
   "source": [
    "hx=quantum_protograph_code.hx_proto.to_binary(lift_parameter=13)"
   ]
  },
  {
   "cell_type": "code",
   "execution_count": 73,
   "id": "e09d5605-b572-48ba-93bb-826637b17559",
   "metadata": {},
   "outputs": [],
   "source": [
    "qcode=css_code(hx,hz)"
   ]
  },
  {
   "cell_type": "code",
   "execution_count": null,
   "id": "51932709-d3e3-4007-bdec-7486495b486b",
   "metadata": {},
   "outputs": [],
   "source": [
    "qcode.test()"
   ]
  },
  {
   "cell_type": "code",
   "execution_count": null,
   "id": "f22fb30b-edf5-4f7f-9e58-42acbea9377e",
   "metadata": {},
   "outputs": [],
   "source": [
    "from bposd.css_decode_sim import css_decode_sim\n",
    "\n",
    "a1=pt.array([\n",
    "        [(0), (11), (7), (12)],\n",
    "        [(1), (8), (1), (8)],\n",
    "        [(11), (0), (4), (8)],\n",
    "        [(6), (2), (4), (12)]])\n",
    "\n",
    "qcode = lifted_hgp(lift_parameter=13,a=a1,b=a1)\n",
    "\n",
    "sim_input={\n",
    "\"error_rate\": 0.10, #the physical error rate on the qubits\n",
    "\"target_runs\": 1000, #the number of cycles to simulate\n",
    "\"bp_method\": \"minimum_sum\", #the bp method\n",
    "\"ms_scaling_factor\": 0.625, # the min-sum scaling factor\n",
    "\"osd_method\": \"osd_e\", # OSD method\n",
    "\"osd_order\": 10, #OSD order\n",
    "\"xyz_error_bias\": [1,1,1], #the relative XYZ bias\n",
    "\"hadamard_rotate\": True, #Hadamard rotate\n",
    "\"hadamard_rotate_sector1_length\": qcode.hx1.shape[1], #the length of sector 1 qubit block. All qubits in sector 2 are Hadamard rotated\n",
    "\"channel_update\": \"x->z\", # the channel update orientation\n",
    "'max_iter': int(qcode.N/10), #the interation depth for BP\n",
    "'tqdm_disable': False #show live stas\n",
    "}\n",
    "css_decode_sim(hx=qcode.hx,hz=qcode.hz,**sim_input)"
   ]
  }
 ],
 "metadata": {
  "kernelspec": {
   "display_name": "Python [conda env:base] *",
   "language": "python",
   "name": "conda-base-py"
  },
  "language_info": {
   "codemirror_mode": {
    "name": "ipython",
    "version": 3
   },
   "file_extension": ".py",
   "mimetype": "text/x-python",
   "name": "python",
   "nbconvert_exporter": "python",
   "pygments_lexer": "ipython3",
   "version": "3.11.11"
  }
 },
 "nbformat": 4,
 "nbformat_minor": 5
}
