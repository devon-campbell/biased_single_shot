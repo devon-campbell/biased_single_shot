{
 "cells": [
  {
   "cell_type": "code",
   "execution_count": 8,
   "id": "93d3be38-eefb-4d80-b7d0-f32e81daae4e",
   "metadata": {},
   "outputs": [],
   "source": [
    "import numpy as np\n",
    "from ldpc.codes import ring_code\n",
    "from ldpc.code_util import compute_code_distance\n",
    "import ldpc.mod2 as mod2\n",
    "from ldpc import protograph as pt\n",
    "from ldpc.codes import hamming_code\n",
    "from bposd.css import css_code\n",
    "from bposd.hgp import hgp\n",
    "from lifted_hgp import *\n",
    "from css_ss_decode_sim import css_ss_decode_sim\n",
    "#from bposd.css_decode_sim import css_decode_sim"
   ]
  },
  {
   "cell_type": "code",
   "execution_count": 37,
   "id": "006ad532-77fd-4519-9563-9ea52b9cf7a0",
   "metadata": {},
   "outputs": [
    {
     "name": "stdout",
     "output_type": "stream",
     "text": [
      "RNG Seed: 2971585989\n",
      "Constructing CSS code from hx and hz matrices...\n",
      "Checking the CSS code is valid...\n",
      "<Unnamed CSS code>\n",
      " -Block dimensions: Pass\n",
      " -PCMs commute hz@hx.T==0: Pass\n",
      " -PCMs commute hx@hz.T==0: Pass\n",
      " -lx \\in ker{hz} AND lz \\in ker{hx}: Pass\n",
      " -lx and lz anticommute: Pass\n",
      " -<Unnamed CSS code> is a valid CSS code w/ params [416,18,nan]\n"
     ]
    },
    {
     "name": "stderr",
     "output_type": "stream",
     "text": [
      "d_max: 26; OSDW_WER: 0.0614±0.018%; OSDW: 1.1±0.33%; OSD0: 2.2±0.46%;: 100% 1000/1000 [00:31<00:00, 31.69it/s] \n"
     ]
    },
    {
     "data": {
      "text/plain": [
       "<bposd.css_decode_sim.css_decode_sim at 0x15f423150>"
      ]
     },
     "execution_count": 37,
     "metadata": {},
     "output_type": "execute_result"
    }
   ],
   "source": [
    "a1=pt.array([\n",
    "        [(0), (11), (7), (12)],\n",
    "        [(1), (8), (1), (8)],\n",
    "        [(11), (0), (4), (8)],\n",
    "        [(6), (2), (4), (12)]])\n",
    "\n",
    "qcode = lifted_hgp(lift_parameter=13,a=a1,b=a1)\n",
    "\n",
    "sim_input={\n",
    "\"error_rate\": 0.10, #the physical error rate on the qubits\n",
    "\"target_runs\": 1000, #the number of cycles to simulate\n",
    "\"bp_method\": \"minimum_sum\", #the bp method\n",
    "\"ms_scaling_factor\": 0.625, # the min-sum scaling factor\n",
    "\"osd_method\": \"osd_e\", # OSD method\n",
    "\"osd_order\": 10, #OSD order\n",
    "\"xyz_error_bias\": [10,1,1], #the relative XYZ bias\n",
    "\"hadamard_rotate\": True, #Hadamard rotate\n",
    "\"hadamard_rotate_sector1_length\": qcode.hx1.shape[1], #the length of sector 1 qubit block. All qubits in sector 2 are Hadamard rotated\n",
    "\"channel_update\": \"x->z\", # the channel update orientation\n",
    "'max_iter': int(qcode.N/10), #the interation depth for BP\n",
    "'tqdm_disable': False #show live stas\n",
    "}\n",
    "css_decode_sim(hx=qcode.hx,hz=qcode.hz,**sim_input)"
   ]
  },
  {
   "cell_type": "code",
   "execution_count": null,
   "id": "d5d2d024-4c83-43b1-81d6-f11e85065467",
   "metadata": {},
   "outputs": [],
   "source": []
  }
 ],
 "metadata": {
  "kernelspec": {
   "display_name": "Python [conda env:base] *",
   "language": "python",
   "name": "conda-base-py"
  },
  "language_info": {
   "codemirror_mode": {
    "name": "ipython",
    "version": 3
   },
   "file_extension": ".py",
   "mimetype": "text/x-python",
   "name": "python",
   "nbconvert_exporter": "python",
   "pygments_lexer": "ipython3",
   "version": "3.11.11"
  }
 },
 "nbformat": 4,
 "nbformat_minor": 5
}
