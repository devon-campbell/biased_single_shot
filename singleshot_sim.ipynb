{
 "cells": [
  {
   "cell_type": "code",
   "execution_count": 13,
   "id": "93d3be38-eefb-4d80-b7d0-f32e81daae4e",
   "metadata": {},
   "outputs": [],
   "source": [
    "import numpy as np\n",
    "from ldpc.codes import ring_code\n",
    "from ldpc.code_util import compute_code_distance\n",
    "import ldpc.mod2 as mod2\n",
    "from ldpc import protograph as pt\n",
    "from ldpc.codes import hamming_code\n",
    "from bposd.css import css_code\n",
    "from bposd.hgp import hgp\n",
    "from css_ss_decode_sim import css_ss_decode_sim\n",
    "#from bposd.css_decode_sim import css_decode_sim"
   ]
  },
  {
   "cell_type": "code",
   "execution_count": 23,
   "id": "190813da-4e86-440b-a50b-42e558165f20",
   "metadata": {},
   "outputs": [
    {
     "name": "stdout",
     "output_type": "stream",
     "text": [
      "[[1 0 0 1]\n",
      " [1 1 0 0]\n",
      " [0 1 1 0]\n",
      " [0 0 1 1]\n",
      " [1 1 0 0]\n",
      " [0 1 1 0]\n",
      " [0 0 1 1]\n",
      " [1 0 0 1]]\n",
      "[[1 1 0 0 1 0 0 1]\n",
      " [0 1 1 0 1 1 0 0]\n",
      " [0 0 1 1 0 1 1 0]\n",
      " [1 0 0 1 0 0 1 1]]\n",
      "delta_0_2d.shape: (4, 8)\n",
      "delta_m1_2d.shape: (8, 4)\n",
      "[[1 0 0 ... 0 0 0]\n",
      " [1 1 0 ... 0 0 0]\n",
      " [0 1 1 ... 0 0 0]\n",
      " ...\n",
      " [0 1 0 ... 1 0 0]\n",
      " [0 0 1 ... 0 1 0]\n",
      " [0 0 0 ... 0 0 1]]\n",
      "<class 'numpy.ndarray'>\n",
      "[[1 1 0 ... 0 0 0]\n",
      " [0 1 1 ... 0 0 0]\n",
      " [0 0 1 ... 0 0 0]\n",
      " ...\n",
      " [0 0 0 ... 1 0 0]\n",
      " [0 0 0 ... 0 1 0]\n",
      " [0 0 0 ... 0 0 1]]\n",
      "<Unnamed CSS code>\n",
      " -Block dimensions: Pass\n",
      " -PCMs commute hz@hx.T==0: Pass\n",
      " -PCMs commute hx@hz.T==0: Pass\n",
      " -lx \\in ker{hz} AND lz \\in ker{hx}: Pass\n",
      " -lx and lz anticommute: Pass\n",
      " -<Unnamed CSS code> is a valid CSS code w/ params [8,2,nan]\n"
     ]
    },
    {
     "data": {
      "text/plain": [
       "True"
      ]
     },
     "execution_count": 23,
     "metadata": {},
     "output_type": "execute_result"
    }
   ],
   "source": [
    "from lifted_hgp import *\n",
    "H=pt.array([[(0,1)]])\n",
    "qcode=lifted_hgp(lift_parameter=4,a=H, b=H)\n",
    "qcode.test()"
   ]
  },
  {
   "cell_type": "code",
   "execution_count": 29,
   "id": "d4a00e9d-0168-4ecb-a5d2-8a63246a57dd",
   "metadata": {},
   "outputs": [
    {
     "name": "stdout",
     "output_type": "stream",
     "text": [
      "(16, 64)\n",
      "(64, 96)\n",
      "(96, 64)\n",
      "(64, 16)\n"
     ]
    }
   ],
   "source": [
    "print(qcode.mx_4d.shape)\n",
    "print(qcode.hx_4d.shape)\n",
    "print(qcode.hz_4d.shape)\n",
    "print(qcode.mz_4d.shape)"
   ]
  },
  {
   "cell_type": "code",
   "execution_count": null,
   "id": "c25cb5e5-fcf9-4dfd-aa98-70d6768c46c2",
   "metadata": {},
   "outputs": [],
   "source": []
  },
  {
   "cell_type": "code",
   "execution_count": 27,
   "id": "2ef1f8ed-2896-47ee-b149-3721e25cef5f",
   "metadata": {},
   "outputs": [
    {
     "data": {
      "text/plain": [
       "array([[1, 1, 0, 0, 1, 0, 0, 1],\n",
       "       [0, 1, 1, 0, 1, 1, 0, 0],\n",
       "       [0, 0, 1, 1, 0, 1, 1, 0],\n",
       "       [1, 0, 0, 1, 0, 0, 1, 1]])"
      ]
     },
     "execution_count": 27,
     "metadata": {},
     "output_type": "execute_result"
    }
   ],
   "source": [
    "hx=qcode.hz_proto.to_binary(lift_parameter=4)\n",
    "hx"
   ]
  },
  {
   "cell_type": "code",
   "execution_count": 10,
   "id": "0457120b-20b8-41d2-b42a-568c94d8f331",
   "metadata": {},
   "outputs": [],
   "source": [
    "from lifted_hgp_OG import *"
   ]
  },
  {
   "cell_type": "code",
   "execution_count": 11,
   "id": "d5d2d024-4c83-43b1-81d6-f11e85065467",
   "metadata": {},
   "outputs": [
    {
     "name": "stdout",
     "output_type": "stream",
     "text": [
      "<Unnamed CSS code>\n",
      " -Block dimensions: Pass\n",
      " -PCMs commute hz@hx.T==0: Pass\n",
      " -PCMs commute hx@hz.T==0: Pass\n",
      " -lx \\in ker{hz} AND lz \\in ker{hx}: Pass\n",
      " -lx and lz anticommute: Pass\n",
      " -<Unnamed CSS code> is a valid CSS code w/ params [8,2,nan]\n"
     ]
    },
    {
     "data": {
      "text/plain": [
       "True"
      ]
     },
     "execution_count": 11,
     "metadata": {},
     "output_type": "execute_result"
    }
   ],
   "source": [
    "qcode=lifted_hgp_OG(lift_parameter=4,a=H, b=H)\n"
   ]
  },
  {
   "cell_type": "code",
   "execution_count": 13,
   "id": "a9910278-404d-492e-a20b-2f10eb078480",
   "metadata": {},
   "outputs": [
    {
     "name": "stdout",
     "output_type": "stream",
     "text": [
      "delta_0_2d.shape: (1, 2)\n",
      "delta_m1_2d.shape: (2, 1)\n"
     ]
    },
    {
     "ename": "TypeError",
     "evalue": "unsupported operand type(s) for %: 'RingOfCirculantsF2' and 'int'",
     "output_type": "error",
     "traceback": [
      "\u001b[0;31m---------------------------------------------------------------------------\u001b[0m",
      "\u001b[0;31mTypeError\u001b[0m                                 Traceback (most recent call last)",
      "Cell \u001b[0;32mIn[13], line 1\u001b[0m\n\u001b[0;32m----> 1\u001b[0m qcode\u001b[38;5;241m=\u001b[39mlifted_hgp(lift_parameter\u001b[38;5;241m=\u001b[39m\u001b[38;5;241m4\u001b[39m,a\u001b[38;5;241m=\u001b[39mH, b\u001b[38;5;241m=\u001b[39mH)\n",
      "File \u001b[0;32m~/Library/CloudStorage/GoogleDrive-dec2180@columbia.edu/My Drive/2024-25/Thesis/biased_single_shot/lifted_hgp.py:67\u001b[0m, in \u001b[0;36mlifted_hgp.__init__\u001b[0;34m(self, lift_parameter, a, b)\u001b[0m\n\u001b[1;32m     62\u001b[0m \u001b[38;5;28mprint\u001b[39m(\u001b[38;5;124mf\u001b[39m\u001b[38;5;124m'\u001b[39m\u001b[38;5;124mdelta_m1_2d.shape: \u001b[39m\u001b[38;5;132;01m{\u001b[39;00mdelta_m1_2d\u001b[38;5;241m.\u001b[39mshape\u001b[38;5;132;01m}\u001b[39;00m\u001b[38;5;124m'\u001b[39m)\n\u001b[1;32m     64\u001b[0m \u001b[38;5;66;03m# (58)  mz = δ_{-2}\u001b[39;00m\n\u001b[1;32m     65\u001b[0m \u001b[38;5;66;03m#     = [  I(k) ⊗ delta_0_2d^T ]\u001b[39;00m\n\u001b[1;32m     66\u001b[0m \u001b[38;5;66;03m#       [  delta_m1_2d ⊗ I(k) ]\u001b[39;00m\n\u001b[0;32m---> 67\u001b[0m \u001b[38;5;28mself\u001b[39m\u001b[38;5;241m.\u001b[39mmz_4d \u001b[38;5;241m=\u001b[39m mod2(\n\u001b[1;32m     68\u001b[0m     np\u001b[38;5;241m.\u001b[39mvstack([\n\u001b[1;32m     69\u001b[0m         np\u001b[38;5;241m.\u001b[39mkron(I(k), delta_0_2d\u001b[38;5;241m.\u001b[39mT),\n\u001b[1;32m     70\u001b[0m         np\u001b[38;5;241m.\u001b[39mkron(delta_m1_2d, I(k))\n\u001b[1;32m     71\u001b[0m     ])\n\u001b[1;32m     72\u001b[0m )\n\u001b[1;32m     74\u001b[0m \u001b[38;5;66;03m# (59)  hz_4d = δ_{-1}^{(new)}\u001b[39;00m\n\u001b[1;32m     75\u001b[0m \u001b[38;5;66;03m#   It's a (3×2) block structure in your code:\u001b[39;00m\n\u001b[1;32m     76\u001b[0m top_left  \u001b[38;5;241m=\u001b[39m np\u001b[38;5;241m.\u001b[39mkron(I(k), delta_m1_2d\u001b[38;5;241m.\u001b[39mT)\n",
      "File \u001b[0;32m~/Library/CloudStorage/GoogleDrive-dec2180@columbia.edu/My Drive/2024-25/Thesis/biased_single_shot/lifted_hgp.py:9\u001b[0m, in \u001b[0;36mmod2\u001b[0;34m(A)\u001b[0m\n\u001b[1;32m      7\u001b[0m \u001b[38;5;28;01mdef\u001b[39;00m \u001b[38;5;21mmod2\u001b[39m(A):\n\u001b[1;32m      8\u001b[0m \u001b[38;5;250m    \u001b[39m\u001b[38;5;124;03m\"\"\"Reduce integer matrix A mod 2.\"\"\"\u001b[39;00m\n\u001b[0;32m----> 9\u001b[0m     \u001b[38;5;28;01mreturn\u001b[39;00m np\u001b[38;5;241m.\u001b[39mremainder(A, \u001b[38;5;241m2\u001b[39m)\n",
      "\u001b[0;31mTypeError\u001b[0m: unsupported operand type(s) for %: 'RingOfCirculantsF2' and 'int'"
     ]
    }
   ],
   "source": []
  },
  {
   "cell_type": "code",
   "execution_count": null,
   "id": "78102d99-9ac4-4669-af90-3f7ca58a0fd5",
   "metadata": {},
   "outputs": [],
   "source": [
    "# dm1, d0 = build_2d_matrices(H)\n",
    "# mz, hz, hx, mx = build_4d_matrices(dm1, d0)\n",
    "\n",
    "# print(\"δ_{-2} * δ_{-1} ≡ 0 mod 2:\", verify_delta_condition(hz, mz))\n",
    "# print(\"δ_{-1} * δ_{0} ≡ 0 mod 2:\", verify_delta_condition(hx, hz))\n",
    "# print(\"δ_{0} * δ_{1} ≡ 0 mod 2:\", verify_delta_condition(mx, hx))\n",
    "\n",
    "# qcode=css_code(hx,hz.T)\n",
    "# qcode.test()"
   ]
  },
  {
   "cell_type": "code",
   "execution_count": 19,
   "id": "c6b0f97b-6a62-461a-87c8-34eb6608db0d",
   "metadata": {},
   "outputs": [
    {
     "ename": "NameError",
     "evalue": "name 'a' is not defined",
     "output_type": "error",
     "traceback": [
      "\u001b[0;31m---------------------------------------------------------------------------\u001b[0m",
      "\u001b[0;31mNameError\u001b[0m                                 Traceback (most recent call last)",
      "Cell \u001b[0;32mIn[19], line 1\u001b[0m\n\u001b[0;32m----> 1\u001b[0m \u001b[38;5;28mself\u001b[39m\u001b[38;5;241m.\u001b[39ma\u001b[38;5;241m=\u001b[39ma\n\u001b[1;32m      3\u001b[0m \u001b[38;5;28mself\u001b[39m\u001b[38;5;241m.\u001b[39ma_m,\u001b[38;5;28mself\u001b[39m\u001b[38;5;241m.\u001b[39ma_n\u001b[38;5;241m=\u001b[39m\u001b[38;5;28mself\u001b[39m\u001b[38;5;241m.\u001b[39ma\u001b[38;5;241m.\u001b[39mshape\n\u001b[1;32m      5\u001b[0m \u001b[38;5;28;01mif\u001b[39;00m b \u001b[38;5;129;01mis\u001b[39;00m \u001b[38;5;28;01mNone\u001b[39;00m:\n",
      "\u001b[0;31mNameError\u001b[0m: name 'a' is not defined"
     ]
    }
   ],
   "source": [
    "        self.a=a\n",
    "\n",
    "        self.a_m,self.a_n=self.a.shape\n",
    "\n",
    "        if b is None:\n",
    "            self.b=pt.copy(self.a)\n",
    "        else:\n",
    "            self.b=b\n",
    "        \n",
    "        self.b_m,self.b_n=self.b.shape\n",
    "\n",
    "        self.hx1_proto=np.kron(self.a,I(self.b_n))\n",
    "        self.hx2_proto=np.kron(I(self.a_m),self.b.T)\n",
    "        self.hx_proto=pt.hstack([self.hx1_proto,self.hx2_proto])\n",
    "\n",
    "        self.hz1_proto=np.kron(I(self.a_n),self.b)\n",
    "        self.hz2_proto=np.kron(self.a.T,I(self.b_m))\n",
    "        self.hz_proto=pt.hstack([self.hz1_proto,self.hz2_proto])"
   ]
  },
  {
   "cell_type": "code",
   "execution_count": 22,
   "id": "fff87f0a-95b9-4190-8168-b63cbae40428",
   "metadata": {},
   "outputs": [],
   "source": [
    "H=pt.array([\n",
    "    [(0,1)]\n",
    "])"
   ]
  },
  {
   "cell_type": "code",
   "execution_count": 20,
   "id": "ce671246-16c9-4ca3-9cde-76e7854cce7f",
   "metadata": {},
   "outputs": [],
   "source": [
    "a1=pt.array([\n",
    "        [(0), (1)],\n",
    "        [(6), (2)]])"
   ]
  },
  {
   "cell_type": "code",
   "execution_count": 18,
   "id": "03489290-7957-4f45-8aee-05fb158b92e0",
   "metadata": {},
   "outputs": [],
   "source": [
    "a1=pt.array([\n",
    "        [(0), (11), (7), (12)],\n",
    "        [(1), (8), (1), (8)],\n",
    "        [(11), (0), (4), (8)],\n",
    "        [(6), (2), (4), (12)]])"
   ]
  },
  {
   "cell_type": "code",
   "execution_count": 71,
   "id": "5781c6d8-1c75-4e82-a5a5-33459d2928b2",
   "metadata": {},
   "outputs": [],
   "source": [
    "hx=quantum_protograph_code.hx_proto.to_binary(lift_parameter=13)"
   ]
  },
  {
   "cell_type": "code",
   "execution_count": 73,
   "id": "e09d5605-b572-48ba-93bb-826637b17559",
   "metadata": {},
   "outputs": [],
   "source": [
    "qcode=css_code(hx,hz)"
   ]
  },
  {
   "cell_type": "code",
   "execution_count": null,
   "id": "51932709-d3e3-4007-bdec-7486495b486b",
   "metadata": {},
   "outputs": [],
   "source": [
    "qcode.test()"
   ]
  },
  {
   "cell_type": "code",
   "execution_count": 12,
   "id": "56066b60-97fd-41a9-b341-d9ef5037cf37",
   "metadata": {},
   "outputs": [
    {
     "ename": "TypeError",
     "evalue": "object.__init__() takes exactly one argument (the instance to initialize)",
     "output_type": "error",
     "traceback": [
      "\u001b[0;31m---------------------------------------------------------------------------\u001b[0m",
      "\u001b[0;31mTypeError\u001b[0m                                 Traceback (most recent call last)",
      "Cell \u001b[0;32mIn[12], line 9\u001b[0m\n\u001b[1;32m      1\u001b[0m \u001b[38;5;28;01mfrom\u001b[39;00m \u001b[38;5;21;01mbposd\u001b[39;00m\u001b[38;5;21;01m.\u001b[39;00m\u001b[38;5;21;01mcss_decode_sim\u001b[39;00m \u001b[38;5;28;01mimport\u001b[39;00m css_decode_sim\n\u001b[1;32m      3\u001b[0m a1\u001b[38;5;241m=\u001b[39mpt\u001b[38;5;241m.\u001b[39marray([\n\u001b[1;32m      4\u001b[0m         [(\u001b[38;5;241m0\u001b[39m), (\u001b[38;5;241m11\u001b[39m), (\u001b[38;5;241m7\u001b[39m), (\u001b[38;5;241m12\u001b[39m)],\n\u001b[1;32m      5\u001b[0m         [(\u001b[38;5;241m1\u001b[39m), (\u001b[38;5;241m8\u001b[39m), (\u001b[38;5;241m1\u001b[39m), (\u001b[38;5;241m8\u001b[39m)],\n\u001b[1;32m      6\u001b[0m         [(\u001b[38;5;241m11\u001b[39m), (\u001b[38;5;241m0\u001b[39m), (\u001b[38;5;241m4\u001b[39m), (\u001b[38;5;241m8\u001b[39m)],\n\u001b[1;32m      7\u001b[0m         [(\u001b[38;5;241m6\u001b[39m), (\u001b[38;5;241m2\u001b[39m), (\u001b[38;5;241m4\u001b[39m), (\u001b[38;5;241m12\u001b[39m)]])\n\u001b[0;32m----> 9\u001b[0m qcode \u001b[38;5;241m=\u001b[39m lifted_hgp(lift_parameter\u001b[38;5;241m=\u001b[39m\u001b[38;5;241m13\u001b[39m,a\u001b[38;5;241m=\u001b[39ma1,b\u001b[38;5;241m=\u001b[39ma1)\n",
      "File \u001b[0;32m~/Library/CloudStorage/GoogleDrive-dec2180@columbia.edu/My Drive/2024-25/Thesis/biased_single_shot/lifted_hgp.py:129\u001b[0m, in \u001b[0;36mlifted_hgp.__init__\u001b[0;34m(self, lift_parameter, a, b)\u001b[0m\n\u001b[1;32m     54\u001b[0m \u001b[38;5;28mself\u001b[39m\u001b[38;5;241m.\u001b[39mhz_proto\u001b[38;5;241m=\u001b[39mpt\u001b[38;5;241m.\u001b[39mhstack([\u001b[38;5;28mself\u001b[39m\u001b[38;5;241m.\u001b[39mhz1_proto,\u001b[38;5;28mself\u001b[39m\u001b[38;5;241m.\u001b[39mhz2_proto])\n\u001b[1;32m     56\u001b[0m \u001b[38;5;66;03m# For reference, Hx has shape (a_m*b_n, ?) and Hz has shape (a_n*b_m, ?)\u001b[39;00m\n\u001b[1;32m     57\u001b[0m \u001b[38;5;66;03m# The details depend on how you stack/transpose, but that’s normal for HGP code.\u001b[39;00m\n\u001b[1;32m     58\u001b[0m \n\u001b[0;32m   (...)\u001b[0m\n\u001b[1;32m    126\u001b[0m \u001b[38;5;66;03m# #   hx_proto, hz_proto = 2D HPC\u001b[39;00m\n\u001b[1;32m    127\u001b[0m \u001b[38;5;66;03m# #   mz_4d, hz_4d, hx_4d, mx_4d = 4D HPC\u001b[39;00m\n\u001b[0;32m--> 129\u001b[0m \u001b[38;5;28msuper\u001b[39m()\u001b[38;5;241m.\u001b[39m\u001b[38;5;21m__init__\u001b[39m(\u001b[38;5;28mself\u001b[39m\u001b[38;5;241m.\u001b[39mhx_proto\u001b[38;5;241m.\u001b[39mto_binary(lift_parameter),\u001b[38;5;28mself\u001b[39m\u001b[38;5;241m.\u001b[39mhz_proto\u001b[38;5;241m.\u001b[39mto_binary(lift_parameter))\n",
      "\u001b[0;31mTypeError\u001b[0m: object.__init__() takes exactly one argument (the instance to initialize)"
     ]
    }
   ],
   "source": [
    "from bposd.css_decode_sim import css_decode_sim\n",
    "\n",
    "a1=pt.array([\n",
    "        [(0), (11), (7), (12)],\n",
    "        [(1), (8), (1), (8)],\n",
    "        [(11), (0), (4), (8)],\n",
    "        [(6), (2), (4), (12)]])\n",
    "\n",
    "qcode = lifted_hgp(lift_parameter=13,a=a1,b=a1)"
   ]
  },
  {
   "cell_type": "code",
   "execution_count": null,
   "id": "f22fb30b-edf5-4f7f-9e58-42acbea9377e",
   "metadata": {},
   "outputs": [],
   "source": [
    "\n",
    "\n",
    "sim_input={\n",
    "\"error_rate\": 0.10, #the physical error rate on the qubits\n",
    "\"target_runs\": 1000, #the number of cycles to simulate\n",
    "\"bp_method\": \"minimum_sum\", #the bp method\n",
    "\"ms_scaling_factor\": 0.625, # the min-sum scaling factor\n",
    "\"osd_method\": \"osd_e\", # OSD method\n",
    "\"osd_order\": 10, #OSD order\n",
    "\"xyz_error_bias\": [1,1,1], #the relative XYZ bias\n",
    "\"hadamard_rotate\": True, #Hadamard rotate\n",
    "\"hadamard_rotate_sector1_length\": qcode.hx1.shape[1], #the length of sector 1 qubit block. All qubits in sector 2 are Hadamard rotated\n",
    "\"channel_update\": \"x->z\", # the channel update orientation\n",
    "'max_iter': int(qcode.N/10), #the interation depth for BP\n",
    "'tqdm_disable': False #show live stas\n",
    "}\n",
    "css_decode_sim(hx=qcode.hx,hz=qcode.hz,**sim_input)"
   ]
  }
 ],
 "metadata": {
  "kernelspec": {
   "display_name": "Python [conda env:base] *",
   "language": "python",
   "name": "conda-base-py"
  },
  "language_info": {
   "codemirror_mode": {
    "name": "ipython",
    "version": 3
   },
   "file_extension": ".py",
   "mimetype": "text/x-python",
   "name": "python",
   "nbconvert_exporter": "python",
   "pygments_lexer": "ipython3",
   "version": "3.11.11"
  }
 },
 "nbformat": 4,
 "nbformat_minor": 5
}
