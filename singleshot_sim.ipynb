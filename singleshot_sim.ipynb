{
 "cells": [
  {
   "cell_type": "code",
   "execution_count": 1,
   "id": "93d3be38-eefb-4d80-b7d0-f32e81daae4e",
   "metadata": {},
   "outputs": [],
   "source": [
    "import numpy as np\n",
    "from ldpc.codes import ring_code\n",
    "from ldpc.code_util import compute_code_distance\n",
    "import ldpc.mod2 as mod2\n",
    "from ldpc import protograph as pt\n",
    "from ldpc.codes import hamming_code\n",
    "from bposd.css import css_code\n",
    "from bposd.hgp import hgp\n",
    "from css_ss_decode_sim import css_ss_decode_sim\n",
    "from lifted_hgp import *\n",
    "#from bposd.css_decode_sim import css_decode_sim"
   ]
  },
  {
   "cell_type": "code",
   "execution_count": 2,
   "id": "190813da-4e86-440b-a50b-42e558165f20",
   "metadata": {},
   "outputs": [
    {
     "name": "stdout",
     "output_type": "stream",
     "text": [
      "[[1 0 0 1]\n",
      " [1 1 0 0]\n",
      " [0 1 1 0]\n",
      " [0 0 1 1]\n",
      " [1 1 0 0]\n",
      " [0 1 1 0]\n",
      " [0 0 1 1]\n",
      " [1 0 0 1]]\n",
      "[[1 1 0 0 1 0 0 1]\n",
      " [0 1 1 0 1 1 0 0]\n",
      " [0 0 1 1 0 1 1 0]\n",
      " [1 0 0 1 0 0 1 1]]\n",
      "delta_0_2d.shape: (4, 8)\n",
      "delta_m1_2d.shape: (8, 4)\n",
      "<Unnamed CSS code>\n",
      " -Block dimensions: Pass\n",
      " -PCMs commute hz@hx.T==0: Pass\n",
      " -PCMs commute hx@hz.T==0: Pass\n",
      " -lx \\in ker{hz} AND lz \\in ker{hx}: Pass\n",
      " -lx and lz anticommute: Pass\n",
      " -<Unnamed CSS code> is a valid CSS code w/ params [8,2,nan]\n"
     ]
    },
    {
     "data": {
      "text/plain": [
       "True"
      ]
     },
     "execution_count": 2,
     "metadata": {},
     "output_type": "execute_result"
    }
   ],
   "source": [
    "H=pt.array([[(0,1)]])\n",
    "qcode=lifted_hgp(lift_parameter=4,a=H, b=H)\n",
    "qcode.test()"
   ]
  },
  {
   "cell_type": "code",
   "execution_count": 3,
   "id": "b7d977f9-5da4-494f-8f26-70d95f15b585",
   "metadata": {},
   "outputs": [],
   "source": [
    "sim_input={\n",
    "    \"error_rate\": 0.10, #the physical error rate on the qubits\n",
    "    \"target_runs\": 1000, #the number of cycles to simulate\n",
    "    \"bp_method\": \"minimum_sum\", #the bp method\n",
    "    \"ms_scaling_factor\": 0.625, # the min-sum scaling factor\n",
    "    \"osd_method\": \"osd_e\", # OSD method\n",
    "    \"osd_order\": 10, #OSD order\n",
    "    \"xyz_error_bias\": [1,1,1], #the relative XYZ bias\n",
    "    \n",
    "    \"sector_list\": [0, 1, 2],\n",
    "    \"rotated_sectors\": [],\n",
    "    \"sector_lengths\": qcode.sector_lengths,\n",
    "\n",
    "    \"p_meas_err\": 0.1,\n",
    "    \n",
    "    \"channel_update\": \"x->z\", # the channel update orientation\n",
    "    'max_iter': int(qcode.N/10), #the interation depth for BP\n",
    "    'tqdm_disable': False #show live stas\n",
    "}"
   ]
  },
  {
   "cell_type": "code",
   "execution_count": 4,
   "id": "9eb175fd-9ae1-4d00-9dc3-422311b3c29f",
   "metadata": {},
   "outputs": [
    {
     "data": {
      "text/plain": [
       "(64, 16)"
      ]
     },
     "execution_count": 4,
     "metadata": {},
     "output_type": "execute_result"
    }
   ],
   "source": [
    "qcode.mz_4d.shape"
   ]
  },
  {
   "cell_type": "code",
   "execution_count": 5,
   "id": "f22fb30b-edf5-4f7f-9e58-42acbea9377e",
   "metadata": {},
   "outputs": [
    {
     "name": "stdout",
     "output_type": "stream",
     "text": [
      "RNG Seed: 1398605097\n",
      "<class 'numpy.ndarray'>\n",
      "Constructing CSS code from hx and hz matrices...\n",
      "Checking the CSS code is valid...\n",
      "<Unnamed CSS code>\n",
      " -Block dimensions: Pass\n",
      " -PCMs commute hz@hx.T==0: Pass\n",
      " -PCMs commute hx@hz.T==0: Pass\n",
      " -lx \\in ker{hz} AND lz \\in ker{hx}: Pass\n",
      " -lx and lz anticommute: Pass\n",
      " -<Unnamed CSS code> is a valid CSS code w/ params [96,6,nan]\n"
     ]
    },
    {
     "name": "stderr",
     "output_type": "stream",
     "text": [
      "d_max: 1; OSDW_WER: 52.8±0.055%; OSDW: 98.9±0.33%; OSD0: 99.4±0.24%;: 100% 1000/1000 [00:08<00:00, 120.85it/s]\n"
     ]
    },
    {
     "data": {
      "text/plain": [
       "<css_ss_decode_sim.css_ss_decode_sim at 0x118cc8950>"
      ]
     },
     "execution_count": 5,
     "metadata": {},
     "output_type": "execute_result"
    }
   ],
   "source": [
    "css_ss_decode_sim(hx = qcode.hx_4d, hz = qcode.hz_4d.T, \n",
    "                  mx = qcode.mx_4d, mz = qcode.mz_4d.T, \n",
    "                  **sim_input)"
   ]
  },
  {
   "cell_type": "code",
   "execution_count": null,
   "id": "cc050ff4-23f9-4815-a3af-56d3b21c0012",
   "metadata": {},
   "outputs": [],
   "source": []
  }
 ],
 "metadata": {
  "kernelspec": {
   "display_name": "Python [conda env:base] *",
   "language": "python",
   "name": "conda-base-py"
  },
  "language_info": {
   "codemirror_mode": {
    "name": "ipython",
    "version": 3
   },
   "file_extension": ".py",
   "mimetype": "text/x-python",
   "name": "python",
   "nbconvert_exporter": "python",
   "pygments_lexer": "ipython3",
   "version": "3.11.11"
  }
 },
 "nbformat": 4,
 "nbformat_minor": 5
}
