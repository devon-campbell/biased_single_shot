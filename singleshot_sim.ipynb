{
 "cells": [
  {
   "cell_type": "code",
   "execution_count": 10,
   "id": "93d3be38-eefb-4d80-b7d0-f32e81daae4e",
   "metadata": {},
   "outputs": [],
   "source": [
    "import numpy as np\n",
    "from ldpc.codes import ring_code\n",
    "from ldpc.code_util import compute_code_distance\n",
    "import ldpc.mod2 as mod2\n",
    "from ldpc import protograph as pt\n",
    "from ldpc.codes import hamming_code\n",
    "from bposd.css import css_code\n",
    "from bposd.hgp import hgp\n",
    "from css_ss_decode_sim import css_ss_decode_sim\n",
    "#from bposd.css_decode_sim import css_decode_sim"
   ]
  },
  {
   "cell_type": "code",
   "execution_count": 16,
   "id": "190813da-4e86-440b-a50b-42e558165f20",
   "metadata": {},
   "outputs": [
    {
     "name": "stdout",
     "output_type": "stream",
     "text": [
      "[[1 0 0 1]\n",
      " [1 1 0 0]\n",
      " [0 1 1 0]\n",
      " [0 0 1 1]\n",
      " [1 1 0 0]\n",
      " [0 1 1 0]\n",
      " [0 0 1 1]\n",
      " [1 0 0 1]]\n",
      "[[1 1 0 0 1 0 0 1]\n",
      " [0 1 1 0 1 1 0 0]\n",
      " [0 0 1 1 0 1 1 0]\n",
      " [1 0 0 1 0 0 1 1]]\n",
      "delta_0_2d.shape: (4, 8)\n",
      "delta_m1_2d.shape: (8, 4)\n",
      "<Unnamed CSS code>\n",
      " -Block dimensions: Pass\n",
      " -PCMs commute hz@hx.T==0: Pass\n",
      " -PCMs commute hx@hz.T==0: Pass\n",
      " -lx \\in ker{hz} AND lz \\in ker{hx}: Pass\n",
      " -lx and lz anticommute: Pass\n",
      " -<Unnamed CSS code> is a valid CSS code w/ params [8,2,nan]\n"
     ]
    },
    {
     "data": {
      "text/plain": [
       "True"
      ]
     },
     "execution_count": 16,
     "metadata": {},
     "output_type": "execute_result"
    }
   ],
   "source": [
    "from lifted_hgp import *\n",
    "H=pt.array([[(0,1)]])\n",
    "qcode=lifted_hgp(lift_parameter=4,a=H, b=H)\n",
    "qcode.test()"
   ]
  },
  {
   "cell_type": "code",
   "execution_count": 19,
   "id": "594e1217-2497-4ac6-b7f9-fdb4ce898645",
   "metadata": {},
   "outputs": [
    {
     "data": {
      "text/plain": [
       "(32, 32)"
      ]
     },
     "execution_count": 19,
     "metadata": {},
     "output_type": "execute_result"
    }
   ],
   "source": [
    "qcode.hz_1_4d.shape"
   ]
  },
  {
   "cell_type": "code",
   "execution_count": null,
   "id": "7dd2e0e0-7ece-4d76-8c81-2317ed0ce2db",
   "metadata": {},
   "outputs": [],
   "source": [
    "qcode.mx_4d"
   ]
  },
  {
   "cell_type": "code",
   "execution_count": 18,
   "id": "7f862ae6-add1-4af2-b7e2-3a29afc50771",
   "metadata": {},
   "outputs": [
    {
     "name": "stdout",
     "output_type": "stream",
     "text": [
      "δ_{-2} * δ_{-1} ≡ 0 mod 2: True\n",
      "δ_{-1} * δ_{0} ≡ 0 mod 2: True\n",
      "δ_{0} * δ_{1} ≡ 0 mod 2: True\n"
     ]
    }
   ],
   "source": [
    "def verify_delta_condition(delta_i, delta_i_minus_1):\n",
    "    \"\"\"\n",
    "    Verify that δ_i * δ_{i-1} = 0 mod 2.\n",
    "    \"\"\"\n",
    "    product = np.mod(np.dot(delta_i, delta_i_minus_1), 2)  # Compute δ_i * δ_{i-1} mod 2\n",
    "    return np.all(product == 0)  # Check if all entries are zero\n",
    "\n",
    "print(\"δ_{-2} * δ_{-1} ≡ 0 mod 2:\", verify_delta_condition(qcode.hz_4d, qcode.mz_4d))\n",
    "print(\"δ_{-1} * δ_{0} ≡ 0 mod 2:\", verify_delta_condition(qcode.hx_4d, qcode.hz_4d))\n",
    "print(\"δ_{0} * δ_{1} ≡ 0 mod 2:\", verify_delta_condition(qcode.mx_4d, qcode.hx_4d))"
   ]
  },
  {
   "cell_type": "code",
   "execution_count": null,
   "id": "428a5b6f-59b3-4cf5-aa11-c362c17ecb43",
   "metadata": {},
   "outputs": [],
   "source": [
    "qcode."
   ]
  },
  {
   "cell_type": "code",
   "execution_count": 49,
   "id": "ea1e9df6-df38-4ed4-a2a9-de015c44d803",
   "metadata": {},
   "outputs": [
    {
     "data": {
      "text/plain": [
       "(64, 96)"
      ]
     },
     "execution_count": 49,
     "metadata": {},
     "output_type": "execute_result"
    }
   ],
   "source": [
    "qcode.hx_4d.shape"
   ]
  },
  {
   "cell_type": "code",
   "execution_count": 51,
   "id": "75ab14ab-69bb-41ea-ade3-8bb8daead9d1",
   "metadata": {},
   "outputs": [
    {
     "data": {
      "text/plain": [
       "(96, 64)"
      ]
     },
     "execution_count": 51,
     "metadata": {},
     "output_type": "execute_result"
    }
   ],
   "source": [
    "qcode.hz_4d.shape"
   ]
  },
  {
   "cell_type": "code",
   "execution_count": 43,
   "id": "d9e56751-4dea-4755-a234-facad1c36a6e",
   "metadata": {},
   "outputs": [
    {
     "data": {
      "text/plain": [
       "(4, 8)"
      ]
     },
     "execution_count": 43,
     "metadata": {},
     "output_type": "execute_result"
    }
   ],
   "source": [
    "qcode.hx.shape"
   ]
  },
  {
   "cell_type": "code",
   "execution_count": 41,
   "id": "8d8300e3-58ef-43ad-8300-207c991b4984",
   "metadata": {},
   "outputs": [
    {
     "data": {
      "text/plain": [
       "(4, 4)"
      ]
     },
     "execution_count": 41,
     "metadata": {},
     "output_type": "execute_result"
    }
   ],
   "source": [
    "qcode.hx1.shape"
   ]
  },
  {
   "cell_type": "code",
   "execution_count": null,
   "id": "db063250-b8b8-4f9f-8e88-a495ca6006ec",
   "metadata": {},
   "outputs": [],
   "source": []
  },
  {
   "cell_type": "code",
   "execution_count": 23,
   "id": "b7d977f9-5da4-494f-8f26-70d95f15b585",
   "metadata": {},
   "outputs": [],
   "source": [
    "sim_input={\n",
    "    \"error_rate\": 0.10, #the physical error rate on the qubits\n",
    "    \"target_runs\": 1000, #the number of cycles to simulate\n",
    "    \"bp_method\": \"minimum_sum\", #the bp method\n",
    "    \"ms_scaling_factor\": 0.625, # the min-sum scaling factor\n",
    "    \"osd_method\": \"osd_e\", # OSD method\n",
    "    \"osd_order\": 10, #OSD order\n",
    "    \"xyz_error_bias\": [1,1,1], #the relative XYZ bias\n",
    "    \"hadamard_rotate\": True, #Hadamard rotate\n",
    "    \"hadamard_rotate_sector1_length\": qcode.hx1_2d.shape[1], #the length of sector 1 qubit block. All qubits in sector 2 are Hadamard rotated\n",
    "    \"channel_update\": \"x->z\", # the channel update orientation\n",
    "    'max_iter': int(qcode.N/10), #the interation depth for BP\n",
    "    'tqdm_disable': False #show live stas\n",
    "}"
   ]
  },
  {
   "cell_type": "code",
   "execution_count": 27,
   "id": "acf565a4-ffe2-45a3-8301-93113010badf",
   "metadata": {},
   "outputs": [
    {
     "data": {
      "text/plain": [
       "4"
      ]
     },
     "execution_count": 27,
     "metadata": {},
     "output_type": "execute_result"
    }
   ],
   "source": [
    "sim_input['hadamard_rotate_sector1_length']"
   ]
  },
  {
   "cell_type": "code",
   "execution_count": 8,
   "id": "f22fb30b-edf5-4f7f-9e58-42acbea9377e",
   "metadata": {},
   "outputs": [
    {
     "ename": "NameError",
     "evalue": "name 'qcode' is not defined",
     "output_type": "error",
     "traceback": [
      "\u001b[0;31m---------------------------------------------------------------------------\u001b[0m",
      "\u001b[0;31mNameError\u001b[0m                                 Traceback (most recent call last)",
      "Cell \u001b[0;32mIn[8], line 10\u001b[0m\n\u001b[1;32m      1\u001b[0m sim_input\u001b[38;5;241m=\u001b[39m{\n\u001b[1;32m      2\u001b[0m     \u001b[38;5;124m\"\u001b[39m\u001b[38;5;124merror_rate\u001b[39m\u001b[38;5;124m\"\u001b[39m: \u001b[38;5;241m0.10\u001b[39m, \u001b[38;5;66;03m#the physical error rate on the qubits\u001b[39;00m\n\u001b[1;32m      3\u001b[0m     \u001b[38;5;124m\"\u001b[39m\u001b[38;5;124mtarget_runs\u001b[39m\u001b[38;5;124m\"\u001b[39m: \u001b[38;5;241m1000\u001b[39m, \u001b[38;5;66;03m#the number of cycles to simulate\u001b[39;00m\n\u001b[1;32m      4\u001b[0m     \u001b[38;5;124m\"\u001b[39m\u001b[38;5;124mbp_method\u001b[39m\u001b[38;5;124m\"\u001b[39m: \u001b[38;5;124m\"\u001b[39m\u001b[38;5;124mminimum_sum\u001b[39m\u001b[38;5;124m\"\u001b[39m, \u001b[38;5;66;03m#the bp method\u001b[39;00m\n\u001b[1;32m      5\u001b[0m     \u001b[38;5;124m\"\u001b[39m\u001b[38;5;124mms_scaling_factor\u001b[39m\u001b[38;5;124m\"\u001b[39m: \u001b[38;5;241m0.625\u001b[39m, \u001b[38;5;66;03m# the min-sum scaling factor\u001b[39;00m\n\u001b[1;32m      6\u001b[0m     \u001b[38;5;124m\"\u001b[39m\u001b[38;5;124mosd_method\u001b[39m\u001b[38;5;124m\"\u001b[39m: \u001b[38;5;124m\"\u001b[39m\u001b[38;5;124mosd_e\u001b[39m\u001b[38;5;124m\"\u001b[39m, \u001b[38;5;66;03m# OSD method\u001b[39;00m\n\u001b[1;32m      7\u001b[0m     \u001b[38;5;124m\"\u001b[39m\u001b[38;5;124mosd_order\u001b[39m\u001b[38;5;124m\"\u001b[39m: \u001b[38;5;241m10\u001b[39m, \u001b[38;5;66;03m#OSD order\u001b[39;00m\n\u001b[1;32m      8\u001b[0m     \u001b[38;5;124m\"\u001b[39m\u001b[38;5;124mxyz_error_bias\u001b[39m\u001b[38;5;124m\"\u001b[39m: [\u001b[38;5;241m1\u001b[39m,\u001b[38;5;241m1\u001b[39m,\u001b[38;5;241m1\u001b[39m], \u001b[38;5;66;03m#the relative XYZ bias\u001b[39;00m\n\u001b[1;32m      9\u001b[0m     \u001b[38;5;124m\"\u001b[39m\u001b[38;5;124mhadamard_rotate\u001b[39m\u001b[38;5;124m\"\u001b[39m: \u001b[38;5;28;01mTrue\u001b[39;00m, \u001b[38;5;66;03m#Hadamard rotate\u001b[39;00m\n\u001b[0;32m---> 10\u001b[0m     \u001b[38;5;124m\"\u001b[39m\u001b[38;5;124mhadamard_rotate_sector1_length\u001b[39m\u001b[38;5;124m\"\u001b[39m: qcode\u001b[38;5;241m.\u001b[39mhx1\u001b[38;5;241m.\u001b[39mshape[\u001b[38;5;241m1\u001b[39m], \u001b[38;5;66;03m#the length of sector 1 qubit block. All qubits in sector 2 are Hadamard rotated\u001b[39;00m\n\u001b[1;32m     11\u001b[0m     \u001b[38;5;124m\"\u001b[39m\u001b[38;5;124mchannel_update\u001b[39m\u001b[38;5;124m\"\u001b[39m: \u001b[38;5;124m\"\u001b[39m\u001b[38;5;124mx->z\u001b[39m\u001b[38;5;124m\"\u001b[39m, \u001b[38;5;66;03m# the channel update orientation\u001b[39;00m\n\u001b[1;32m     12\u001b[0m     \u001b[38;5;124m'\u001b[39m\u001b[38;5;124mmax_iter\u001b[39m\u001b[38;5;124m'\u001b[39m: \u001b[38;5;28mint\u001b[39m(qcode\u001b[38;5;241m.\u001b[39mN\u001b[38;5;241m/\u001b[39m\u001b[38;5;241m10\u001b[39m), \u001b[38;5;66;03m#the interation depth for BP\u001b[39;00m\n\u001b[1;32m     13\u001b[0m     \u001b[38;5;124m'\u001b[39m\u001b[38;5;124mtqdm_disable\u001b[39m\u001b[38;5;124m'\u001b[39m: \u001b[38;5;28;01mFalse\u001b[39;00m \u001b[38;5;66;03m#show live stas\u001b[39;00m\n\u001b[1;32m     14\u001b[0m }\n\u001b[1;32m     15\u001b[0m css_decode_sim(hx\u001b[38;5;241m=\u001b[39mqcode\u001b[38;5;241m.\u001b[39mhx,hz\u001b[38;5;241m=\u001b[39mqcode\u001b[38;5;241m.\u001b[39mhz,\u001b[38;5;241m*\u001b[39m\u001b[38;5;241m*\u001b[39msim_input)\n",
      "\u001b[0;31mNameError\u001b[0m: name 'qcode' is not defined"
     ]
    }
   ],
   "source": [
    "css_decode_sim(hx=qcode.hx,hz=qcode.hz,**sim_input)"
   ]
  },
  {
   "cell_type": "code",
   "execution_count": null,
   "id": "cc050ff4-23f9-4815-a3af-56d3b21c0012",
   "metadata": {},
   "outputs": [],
   "source": []
  }
 ],
 "metadata": {
  "kernelspec": {
   "display_name": "Python [conda env:base] *",
   "language": "python",
   "name": "conda-base-py"
  },
  "language_info": {
   "codemirror_mode": {
    "name": "ipython",
    "version": 3
   },
   "file_extension": ".py",
   "mimetype": "text/x-python",
   "name": "python",
   "nbconvert_exporter": "python",
   "pygments_lexer": "ipython3",
   "version": "3.11.11"
  }
 },
 "nbformat": 4,
 "nbformat_minor": 5
}
